{
 "cells": [
  {
   "cell_type": "markdown",
   "metadata": {},
   "source": [
    "# Exploring Cal Poly Schedules\n",
    "## Using BeautifulSoup to parse schedules.calpoly.edu\n",
    "### For PolyRooms"
   ]
  },
  {
   "cell_type": "code",
   "execution_count": 63,
   "metadata": {},
   "outputs": [],
   "source": [
    "from bs4 import BeautifulSoup\n",
    "import lxml.html as LH\n",
    "import pandas as pd\n",
    "import requests"
   ]
  },
  {
   "cell_type": "code",
   "execution_count": 64,
   "metadata": {},
   "outputs": [],
   "source": [
    "url = \"http://schedules.calpoly.edu/all_location_curr.htm\"\n",
    "page = requests.get(url)\n",
    "#soup = BeautifulSoup(page.content,'html.parser')\n",
    "#table = soup.body.find(\"div\", id=\"content\").table"
   ]
  },
  {
   "cell_type": "code",
   "execution_count": 80,
   "metadata": {},
   "outputs": [
    {
     "name": "stdout",
     "output_type": "stream",
     "text": [
      "(542, 7)\n",
      "002-0013          002-0101\n",
      "BD-002-0013    BD-002-0101\n",
      "34                      30\n",
      "34.1                    30\n",
      "811                    221\n",
      "1190                  1050\n",
      "ICS                    ICS\n",
      "Name: 0, dtype: object\n"
     ]
    }
   ],
   "source": [
    "lTable = LH.fromstring(page.content)\n",
    "pandasTable = pd.read_html(page.content, flavor = \"bs4\", header = 1, skiprows = [0, 1], keep_default_na = False)[0]\n",
    "#remove empty columns\n",
    "\n",
    "#print(pandasTable.shape)\n",
    "#print(lTable.xpath('//tr/td/a/@href'))\n",
    "#pandasTable['ICS'] = lTable.xpath('//tr/td/calendarICS/a/@href')\n",
    "print(pandasTable.shape)\n",
    "print(pandasTable.iloc[0])\n",
    "#pandasTable['ICS'] = pandasTable['ICS'].str.extract(r'([^./]+)[.]')\n",
    "#print(pandasTable)"
   ]
  },
  {
   "cell_type": "code",
   "execution_count": null,
   "metadata": {},
   "outputs": [],
   "source": []
  }
 ],
 "metadata": {
  "kernelspec": {
   "display_name": "Python 3",
   "language": "python",
   "name": "python3"
  },
  "language_info": {
   "codemirror_mode": {
    "name": "ipython",
    "version": 3
   },
   "file_extension": ".py",
   "mimetype": "text/x-python",
   "name": "python",
   "nbconvert_exporter": "python",
   "pygments_lexer": "ipython3",
   "version": "3.6.7"
  }
 },
 "nbformat": 4,
 "nbformat_minor": 2
}
