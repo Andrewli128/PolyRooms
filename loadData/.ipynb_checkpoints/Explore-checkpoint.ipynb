{
 "cells": [
  {
   "cell_type": "markdown",
   "metadata": {},
   "source": [
    "# Exploring Cal Poly Schedules\n",
    "## Using BeautifulSoup to parse schedules.calpoly.edu\n",
    "### For PolyRooms"
   ]
  },
  {
   "cell_type": "code",
   "execution_count": null,
   "metadata": {},
   "outputs": [],
   "source": [
    "from bs4 import BeautifulSoup\n",
    "import lxml.html as LH\n",
    "import pandas as pd\n",
    "import requests\n",
    "import re"
   ]
  },
  {
   "cell_type": "code",
   "execution_count": null,
   "metadata": {},
   "outputs": [],
   "source": [
    "url = \"http://schedules.calpoly.edu/all_location_curr.htm\"\n",
    "page = requests.get(url)\n",
    "content = page.content"
   ]
  },
  {
   "cell_type": "code",
   "execution_count": null,
   "metadata": {},
   "outputs": [],
   "source": [
    "# remove rows with nonsense data\n",
    "rowsSkip = [0]\n",
    "pandasTable = pd.read_html(content, header = 0, skiprows = rowsSkip, keep_default_na = False)[0]\n",
    "lhTable = LH.fromstring(content)\n",
    "\n",
    "for index, row in pandasTable.iterrows():\n",
    "    if(re.match(\".*-.*\",row['Listing']) is None):\n",
    "        rowsSkip.append(index+2)\n",
    "pandasTable = pd.read_html(page.content, header = 0, skiprows = rowsSkip, keep_default_na = False)[0]\n",
    "\n",
    "# assign ICS href to ICS columns\n",
    "icsHref = lhTable.xpath('//tr/td//a/@href')\n",
    "icsRegex = re.compile(r'\\/ics\\/location.*')\n",
    "icsHref = list(filter(icsRegex.match, icsHref))\n",
    "print(rowsSkip)\n",
    "print(len(icsHref))\n",
    "pandasTable[\"ICS\"] = icsHref\n",
    "print(pandasTable.columns)\n",
    "print(pandasTable.shape)\n",
    "print(pandasTable)"
   ]
  },
  {
   "cell_type": "code",
   "execution_count": null,
   "metadata": {},
   "outputs": [],
   "source": []
  }
 ],
 "metadata": {
  "kernelspec": {
   "display_name": "Python 3",
   "language": "python",
   "name": "python3"
  },
  "language_info": {
   "codemirror_mode": {
    "name": "ipython",
    "version": 3
   },
   "file_extension": ".py",
   "mimetype": "text/x-python",
   "name": "python",
   "nbconvert_exporter": "python",
   "pygments_lexer": "ipython3",
   "version": "3.6.7"
  }
 },
 "nbformat": 4,
 "nbformat_minor": 2
}
