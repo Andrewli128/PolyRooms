{
 "cells": [
  {
   "cell_type": "code",
   "execution_count": 1,
   "metadata": {},
   "outputs": [],
   "source": [
    "import pandas as pd\n",
    "import requests\n",
    "import jsonpickle\n",
    "from icalendar import Calendar, Event\n",
    "from enum import Enum"
   ]
  },
  {
   "cell_type": "code",
   "execution_count": 2,
   "metadata": {},
   "outputs": [],
   "source": [
    "roomDF = pd.read_pickle('./rooms.pkl')\n",
    "class Week(Enum):\n",
    "    SU = 0\n",
    "    MO = 1\n",
    "    TU = 2\n",
    "    WE = 3\n",
    "    TH = 4\n",
    "    FR = 5\n",
    "    SA = 6"
   ]
  },
  {
   "cell_type": "code",
   "execution_count": 3,
   "metadata": {},
   "outputs": [],
   "source": [
    "#class definitions\n",
    "class customTime():\n",
    "    def __init__(self, day, hour):\n",
    "        self.day = day\n",
    "        self.hour = hour\n",
    "class interval():\n",
    "    def __init__(self, start, finish):\n",
    "        self.start=start\n",
    "        self.finish=finish\n",
    "class emptyIntervals():\n",
    "    def __init__(self):\n",
    "        self.emptyIntervals = []\n",
    "    def addInterval(self, interval):\n",
    "        self.emptyIntervals.append(interval)        \n",
    "class buildings():\n",
    "    def __init__(self):\n",
    "        self.buildings = []\n",
    "    def addBuilding(self, building):\n",
    "        self.buildings.append(building)\n",
    "class building():\n",
    "    def __init__(self, buildingNumber):\n",
    "        self.buildingNumber = buildingNumber\n",
    "        self.rooms = []\n",
    "    def addRoom(self, room):\n",
    "        self.rooms.append(room)\n",
    "class room():\n",
    "    def __init__(self, roomNumber):\n",
    "        self.emptyIntervals = []\n",
    "        self.reservations = {}\n",
    "        self.reports = {}\n",
    "        self.roomNumber = roomNumber;\n",
    "    def setEmptyIntervals(self, emptyIntervals):\n",
    "        self.emptyIntervals=emptyIntervals"
   ]
  },
  {
   "cell_type": "code",
   "execution_count": 8,
   "metadata": {},
   "outputs": [
    {
     "name": "stdout",
     "output_type": "stream",
     "text": [
      "003\n",
      "{\"buildings\": [{\"buildingNumber\": \"002\", \"rooms\": [{\"emptyIntervals\": {\"emptyIntervals\": [{\"finish\": {\"day\": 1, \"hour\": 9}, \"start\": {\"day\": 1, \"hour\": 8}}, {\"finish\": {\"day\": 2, \"hour\": 9}, \"start\": {\"day\": 2, \"hour\": 8}}, {\"finish\": {\"day\": 3, \"hour\": 9}, \"start\": {\"day\": 3, \"hour\": 8}}, {\"finish\": {\"day\": 4, \"hour\": 9}, \"start\": {\"day\": 4, \"hour\": 8}}, {\"finish\": {\"day\": 1, \"hour\": 10}, \"start\": {\"day\": 1, \"hour\": 9}}, {\"finish\": {\"day\": 2, \"hour\": 10}, \"start\": {\"day\": 2, \"hour\": 9}}, {\"finish\": {\"day\": 3, \"hour\": 10}, \"start\": {\"day\": 3, \"hour\": 9}}, {\"finish\": {\"day\": 4, \"hour\": 10}, \"start\": {\"day\": 4, \"hour\": 9}}, {\"finish\": {\"day\": 1, \"hour\": 12}, \"start\": {\"day\": 1, \"hour\": 11}}, {\"finish\": {\"day\": 2, \"hour\": 12}, \"start\": {\"day\": 2, \"hour\": 11}}, {\"finish\": {\"day\": 3, \"hour\": 12}, \"start\": {\"day\": 3, \"hour\": 11}}, {\"finish\": {\"day\": 4, \"hour\": 12}, \"start\": {\"day\": 4, \"hour\": 11}}, {\"finish\": {\"day\": 1, \"hour\": 16}, \"start\": {\"day\": 1, \"hour\": 14}}, {\"finish\": {\"day\": 3, \"hour\": 16}, \"start\": {\"day\": 3, \"hour\": 14}}, {\"finish\": {\"day\": 1, \"hour\": 17}, \"start\": {\"day\": 1, \"hour\": 16}}, {\"finish\": {\"day\": 3, \"hour\": 17}, \"start\": {\"day\": 3, \"hour\": 16}}, {\"finish\": {\"day\": 1, \"hour\": 19}, \"start\": {\"day\": 1, \"hour\": 18}}, {\"finish\": {\"day\": 3, \"hour\": 19}, \"start\": {\"day\": 3, \"hour\": 18}}, {\"finish\": {\"day\": 1, \"hour\": 21}, \"start\": {\"day\": 1, \"hour\": 19}}, {\"finish\": {\"day\": 3, \"hour\": 21}, \"start\": {\"day\": 3, \"hour\": 19}}, {\"finish\": {\"day\": 1, \"hour\": 14}, \"start\": {\"day\": 1, \"hour\": 12}}, {\"finish\": {\"day\": 3, \"hour\": 14}, \"start\": {\"day\": 3, \"hour\": 12}}, {\"finish\": {\"day\": 2, \"hour\": 15}, \"start\": {\"day\": 2, \"hour\": 14}}, {\"finish\": {\"day\": 4, \"hour\": 15}, \"start\": {\"day\": 4, \"hour\": 14}}, {\"finish\": {\"day\": 2, \"hour\": 16}, \"start\": {\"day\": 2, \"hour\": 15}}, {\"finish\": {\"day\": 4, \"hour\": 16}, \"start\": {\"day\": 4, \"hour\": 15}}, {\"finish\": {\"day\": 2, \"hour\": 17}, \"start\": {\"day\": 2, \"hour\": 16}}, {\"finish\": {\"day\": 4, \"hour\": 17}, \"start\": {\"day\": 4, \"hour\": 16}}, {\"finish\": {\"day\": 2, \"hour\": 19}, \"start\": {\"day\": 2, \"hour\": 18}}, {\"finish\": {\"day\": 4, \"hour\": 19}, \"start\": {\"day\": 4, \"hour\": 18}}, {\"finish\": {\"day\": 2, \"hour\": 11}, \"start\": {\"day\": 2, \"hour\": 10}}, {\"finish\": {\"day\": 4, \"hour\": 11}, \"start\": {\"day\": 4, \"hour\": 10}}, {\"finish\": {\"day\": 2, \"hour\": 14}, \"start\": {\"day\": 2, \"hour\": 12}}, {\"finish\": {\"day\": 4, \"hour\": 14}, \"start\": {\"day\": 4, \"hour\": 12}}]}, \"reports\": {}, \"reservations\": {}, \"roomNumber\": \"0013\"}, {\"emptyIntervals\": {\"emptyIntervals\": [{\"finish\": {\"day\": 1, \"hour\": 13}, \"start\": {\"day\": 1, \"hour\": 12}}, {\"finish\": {\"day\": 3, \"hour\": 13}, \"start\": {\"day\": 3, \"hour\": 12}}, {\"finish\": {\"day\": 1, \"hour\": 16}, \"start\": {\"day\": 1, \"hour\": 14}}, {\"finish\": {\"day\": 2, \"hour\": 13}, \"start\": {\"day\": 2, \"hour\": 12}}, {\"finish\": {\"day\": 4, \"hour\": 13}, \"start\": {\"day\": 4, \"hour\": 12}}, {\"finish\": {\"day\": 2, \"hour\": 16}, \"start\": {\"day\": 2, \"hour\": 14}}]}, \"reports\": {}, \"reservations\": {}, \"roomNumber\": \"0101\"}, {\"emptyIntervals\": {\"emptyIntervals\": [{\"finish\": {\"day\": 1, \"hour\": 14}, \"start\": {\"day\": 1, \"hour\": 12}}, {\"finish\": {\"day\": 3, \"hour\": 14}, \"start\": {\"day\": 3, \"hour\": 12}}, {\"finish\": {\"day\": 1, \"hour\": 14}, \"start\": {\"day\": 1, \"hour\": 12}}, {\"finish\": {\"day\": 3, \"hour\": 14}, \"start\": {\"day\": 3, \"hour\": 12}}, {\"finish\": {\"day\": 1, \"hour\": 12}, \"start\": {\"day\": 1, \"hour\": 10}}, {\"finish\": {\"day\": 3, \"hour\": 12}, \"start\": {\"day\": 3, \"hour\": 10}}, {\"finish\": {\"day\": 2, \"hour\": 14}, \"start\": {\"day\": 2, \"hour\": 12}}, {\"finish\": {\"day\": 4, \"hour\": 14}, \"start\": {\"day\": 4, \"hour\": 12}}, {\"finish\": {\"day\": 1, \"hour\": 10}, \"start\": {\"day\": 1, \"hour\": 8}}, {\"finish\": {\"day\": 3, \"hour\": 10}, \"start\": {\"day\": 3, \"hour\": 8}}, {\"finish\": {\"day\": 2, \"hour\": 11}, \"start\": {\"day\": 2, \"hour\": 9}}, {\"finish\": {\"day\": 4, \"hour\": 11}, \"start\": {\"day\": 4, \"hour\": 9}}, {\"finish\": {\"day\": 2, \"hour\": 16}, \"start\": {\"day\": 2, \"hour\": 14}}, {\"finish\": {\"day\": 4, \"hour\": 16}, \"start\": {\"day\": 4, \"hour\": 14}}, {\"finish\": {\"day\": 2, \"hour\": 18}, \"start\": {\"day\": 2, \"hour\": 16}}, {\"finish\": {\"day\": 4, \"hour\": 18}, \"start\": {\"day\": 4, \"hour\": 16}}, {\"finish\": {\"day\": 1, \"hour\": 20}, \"start\": {\"day\": 1, \"hour\": 18}}, {\"finish\": {\"day\": 3, \"hour\": 20}, \"start\": {\"day\": 3, \"hour\": 18}}, {\"finish\": {\"day\": 2, \"hour\": 9}, \"start\": {\"day\": 2, \"hour\": 7}}, {\"finish\": {\"day\": 4, \"hour\": 9}, \"start\": {\"day\": 4, \"hour\": 7}}, {\"finish\": {\"day\": 1, \"hour\": 16}, \"start\": {\"day\": 1, \"hour\": 14}}, {\"finish\": {\"day\": 3, \"hour\": 16}, \"start\": {\"day\": 3, \"hour\": 14}}, {\"finish\": {\"day\": 1, \"hour\": 18}, \"start\": {\"day\": 1, \"hour\": 16}}, {\"finish\": {\"day\": 3, \"hour\": 18}, \"start\": {\"day\": 3, \"hour\": 16}}, {\"finish\": {\"day\": 2, \"hour\": 11}, \"start\": {\"day\": 2, \"hour\": 9}}, {\"finish\": {\"day\": 4, \"hour\": 11}, \"start\": {\"day\": 4, \"hour\": 9}}]}, \"reports\": {}, \"reservations\": {}, \"roomNumber\": \"0113\"}, {\"emptyIntervals\": {\"emptyIntervals\": [{\"finish\": {\"day\": 4, \"hour\": 19}, \"start\": {\"day\": 4, \"hour\": 17}}, {\"finish\": {\"day\": 4, \"hour\": 11}, \"start\": {\"day\": 4, \"hour\": 7}}, {\"finish\": {\"day\": 4, \"hour\": 15}, \"start\": {\"day\": 4, \"hour\": 12}}, {\"finish\": {\"day\": 2, \"hour\": 20}, \"start\": {\"day\": 2, \"hour\": 17}}]}, \"reports\": {}, \"reservations\": {}, \"roomNumber\": \"0114\"}, {\"emptyIntervals\": {\"emptyIntervals\": [{\"finish\": {\"day\": 4, \"hour\": 11}, \"start\": {\"day\": 4, \"hour\": 9}}]}, \"reports\": {}, \"reservations\": {}, \"roomNumber\": \"0125\"}, {\"emptyIntervals\": {\"emptyIntervals\": [{\"finish\": {\"day\": 5, \"hour\": 10}, \"start\": {\"day\": 5, \"hour\": 9}}, {\"finish\": {\"day\": 5, \"hour\": 12}, \"start\": {\"day\": 5, \"hour\": 10}}, {\"finish\": {\"day\": 1, \"hour\": 10}, \"start\": {\"day\": 1, \"hour\": 8}}, {\"finish\": {\"day\": 3, \"hour\": 10}, \"start\": {\"day\": 3, \"hour\": 8}}, {\"finish\": {\"day\": 6, \"hour\": 11}, \"start\": {\"day\": 6, \"hour\": 8}}, {\"finish\": {\"day\": 2, \"hour\": 20}, \"start\": {\"day\": 2, \"hour\": 17}}, {\"finish\": {\"day\": 2, \"hour\": 22}, \"start\": {\"day\": 2, \"hour\": 20}}, {\"finish\": {\"day\": 2, \"hour\": 11}, \"start\": {\"day\": 2, \"hour\": 9}}, {\"finish\": {\"day\": 4, \"hour\": 11}, \"start\": {\"day\": 4, \"hour\": 9}}, {\"finish\": {\"day\": 2, \"hour\": 13}, \"start\": {\"day\": 2, \"hour\": 12}}, {\"finish\": {\"day\": 4, \"hour\": 13}, \"start\": {\"day\": 4, \"hour\": 12}}, {\"finish\": {\"day\": 3, \"hour\": 18}, \"start\": {\"day\": 3, \"hour\": 17}}, {\"finish\": {\"day\": 3, \"hour\": 21}, \"start\": {\"day\": 3, \"hour\": 18}}]}, \"reports\": {}, \"reservations\": {}, \"roomNumber\": \"0126\"}, {\"emptyIntervals\": {\"emptyIntervals\": [{\"finish\": {\"day\": 1, \"hour\": 19}, \"start\": {\"day\": 1, \"hour\": 16}}, {\"finish\": {\"day\": 1, \"hour\": 21}, \"start\": {\"day\": 1, \"hour\": 19}}, {\"finish\": {\"day\": 3, \"hour\": 10}, \"start\": {\"day\": 3, \"hour\": 8}}, {\"finish\": {\"day\": 2, \"hour\": 16}, \"start\": {\"day\": 2, \"hour\": 14}}, {\"finish\": {\"day\": 4, \"hour\": 16}, \"start\": {\"day\": 4, \"hour\": 14}}, {\"finish\": {\"day\": 1, \"hour\": 12}, \"start\": {\"day\": 1, \"hour\": 10}}, {\"finish\": {\"day\": 3, \"hour\": 12}, \"start\": {\"day\": 3, \"hour\": 10}}, {\"finish\": {\"day\": 3, \"hour\": 21}, \"start\": {\"day\": 3, \"hour\": 18}}]}, \"reports\": {}, \"reservations\": {}, \"roomNumber\": \"0127\"}, {\"emptyIntervals\": {\"emptyIntervals\": [{\"finish\": {\"day\": 1, \"hour\": 14}, \"start\": {\"day\": 1, \"hour\": 12}}, {\"finish\": {\"day\": 3, \"hour\": 14}, \"start\": {\"day\": 3, \"hour\": 12}}, {\"finish\": {\"day\": 1, \"hour\": 18}, \"start\": {\"day\": 1, \"hour\": 16}}, {\"finish\": {\"day\": 3, \"hour\": 18}, \"start\": {\"day\": 3, \"hour\": 16}}, {\"finish\": {\"day\": 5, \"hour\": 14}, \"start\": {\"day\": 5, \"hour\": 12}}, {\"finish\": {\"day\": 4, \"hour\": 16}, \"start\": {\"day\": 4, \"hour\": 15}}, {\"finish\": {\"day\": 1, \"hour\": 19}, \"start\": {\"day\": 1, \"hour\": 18}}, {\"finish\": {\"day\": 3, \"hour\": 19}, \"start\": {\"day\": 3, \"hour\": 18}}, {\"finish\": {\"day\": 1, \"hour\": 21}, \"start\": {\"day\": 1, \"hour\": 19}}, {\"finish\": {\"day\": 3, \"hour\": 21}, \"start\": {\"day\": 3, \"hour\": 19}}, {\"finish\": {\"day\": 2, \"hour\": 9}, \"start\": {\"day\": 2, \"hour\": 8}}, {\"finish\": {\"day\": 4, \"hour\": 9}, \"start\": {\"day\": 4, \"hour\": 8}}, {\"finish\": {\"day\": 2, \"hour\": 18}, \"start\": {\"day\": 2, \"hour\": 16}}, {\"finish\": {\"day\": 4, \"hour\": 18}, \"start\": {\"day\": 4, \"hour\": 16}}, {\"finish\": {\"day\": 2, \"hour\": 20}, \"start\": {\"day\": 2, \"hour\": 18}}, {\"finish\": {\"day\": 4, \"hour\": 20}, \"start\": {\"day\": 4, \"hour\": 18}}, {\"finish\": {\"day\": 2, \"hour\": 11}, \"start\": {\"day\": 2, \"hour\": 9}}, {\"finish\": {\"day\": 4, \"hour\": 11}, \"start\": {\"day\": 4, \"hour\": 9}}, {\"finish\": {\"day\": 1, \"hour\": 12}, \"start\": {\"day\": 1, \"hour\": 11}}, {\"finish\": {\"day\": 3, \"hour\": 12}, \"start\": {\"day\": 3, \"hour\": 11}}, {\"finish\": {\"day\": 5, \"hour\": 12}, \"start\": {\"day\": 5, \"hour\": 11}}, {\"finish\": {\"day\": 2, \"hour\": 14}, \"start\": {\"day\": 2, \"hour\": 12}}, {\"finish\": {\"day\": 4, \"hour\": 14}, \"start\": {\"day\": 4, \"hour\": 12}}, {\"finish\": {\"day\": 1, \"hour\": 10}, \"start\": {\"day\": 1, \"hour\": 8}}, {\"finish\": {\"day\": 3, \"hour\": 10}, \"start\": {\"day\": 3, \"hour\": 8}}, {\"finish\": {\"day\": 2, \"hour\": 14}, \"start\": {\"day\": 2, \"hour\": 12}}, {\"finish\": {\"day\": 4, \"hour\": 14}, \"start\": {\"day\": 4, \"hour\": 12}}, {\"finish\": {\"day\": 1, \"hour\": 15}, \"start\": {\"day\": 1, \"hour\": 14}}, {\"finish\": {\"day\": 2, \"hour\": 15}, \"start\": {\"day\": 2, \"hour\": 14}}, {\"finish\": {\"day\": 3, \"hour\": 15}, \"start\": {\"day\": 3, \"hour\": 14}}, {\"finish\": {\"day\": 5, \"hour\": 15}, \"start\": {\"day\": 5, \"hour\": 14}}, {\"finish\": {\"day\": 1, \"hour\": 16}, \"start\": {\"day\": 1, \"hour\": 15}}, {\"finish\": {\"day\": 2, \"hour\": 16}, \"start\": {\"day\": 2, \"hour\": 15}}, {\"finish\": {\"day\": 3, \"hour\": 16}, \"start\": {\"day\": 3, \"hour\": 15}}, {\"finish\": {\"day\": 5, \"hour\": 16}, \"start\": {\"day\": 5, \"hour\": 15}}, {\"finish\": {\"day\": 1, \"hour\": 11}, \"start\": {\"day\": 1, \"hour\": 10}}, {\"finish\": {\"day\": 3, \"hour\": 11}, \"start\": {\"day\": 3, \"hour\": 10}}, {\"finish\": {\"day\": 5, \"hour\": 11}, \"start\": {\"day\": 5, \"hour\": 10}}]}, \"reports\": {}, \"reservations\": {}, \"roomNumber\": \"0203\"}, {\"emptyIntervals\": {\"emptyIntervals\": [{\"finish\": {\"day\": 1, \"hour\": 14}, \"start\": {\"day\": 1, \"hour\": 13}}, {\"finish\": {\"day\": 2, \"hour\": 14}, \"start\": {\"day\": 2, \"hour\": 13}}, {\"finish\": {\"day\": 4, \"hour\": 14}, \"start\": {\"day\": 4, \"hour\": 13}}, {\"finish\": {\"day\": 5, \"hour\": 14}, \"start\": {\"day\": 5, \"hour\": 13}}, {\"finish\": {\"day\": 1, \"hour\": 12}, \"start\": {\"day\": 1, \"hour\": 11}}, {\"finish\": {\"day\": 2, \"hour\": 12}, \"start\": {\"day\": 2, \"hour\": 11}}, {\"finish\": {\"day\": 3, \"hour\": 12}, \"start\": {\"day\": 3, \"hour\": 11}}, {\"finish\": {\"day\": 5, \"hour\": 12}, \"start\": {\"day\": 5, \"hour\": 11}}, {\"finish\": {\"day\": 1, \"hour\": 19}, \"start\": {\"day\": 1, \"hour\": 18}}, {\"finish\": {\"day\": 3, \"hour\": 19}, \"start\": {\"day\": 3, \"hour\": 18}}, {\"finish\": {\"day\": 1, \"hour\": 16}, \"start\": {\"day\": 1, \"hour\": 15}}, {\"finish\": {\"day\": 3, \"hour\": 16}, \"start\": {\"day\": 3, \"hour\": 15}}, {\"finish\": {\"day\": 5, \"hour\": 16}, \"start\": {\"day\": 5, \"hour\": 15}}, {\"finish\": {\"day\": 1, \"hour\": 17}, \"start\": {\"day\": 1, \"hour\": 16}}, {\"finish\": {\"day\": 3, \"hour\": 17}, \"start\": {\"day\": 3, \"hour\": 16}}, {\"finish\": {\"day\": 5, \"hour\": 17}, \"start\": {\"day\": 5, \"hour\": 16}}, {\"finish\": {\"day\": 1, \"hour\": 9}, \"start\": {\"day\": 1, \"hour\": 8}}, {\"finish\": {\"day\": 3, \"hour\": 9}, \"start\": {\"day\": 3, \"hour\": 8}}, {\"finish\": {\"day\": 5, \"hour\": 9}, \"start\": {\"day\": 5, \"hour\": 8}}, {\"finish\": {\"day\": 1, \"hour\": 10}, \"start\": {\"day\": 1, \"hour\": 9}}, {\"finish\": {\"day\": 3, \"hour\": 10}, \"start\": {\"day\": 3, \"hour\": 9}}, {\"finish\": {\"day\": 4, \"hour\": 10}, \"start\": {\"day\": 4, \"hour\": 9}}, {\"finish\": {\"day\": 5, \"hour\": 10}, \"start\": {\"day\": 5, \"hour\": 9}}, {\"finish\": {\"day\": 1, \"hour\": 11}, \"start\": {\"day\": 1, \"hour\": 10}}, {\"finish\": {\"day\": 3, \"hour\": 11}, \"start\": {\"day\": 3, \"hour\": 10}}, {\"finish\": {\"day\": 4, \"hour\": 11}, \"start\": {\"day\": 4, \"hour\": 10}}, {\"finish\": {\"day\": 5, \"hour\": 11}, \"start\": {\"day\": 5, \"hour\": 10}}, {\"finish\": {\"day\": 1, \"hour\": 13}, \"start\": {\"day\": 1, \"hour\": 12}}, {\"finish\": {\"day\": 3, \"hour\": 13}, \"start\": {\"day\": 3, \"hour\": 12}}, {\"finish\": {\"day\": 4, \"hour\": 13}, \"start\": {\"day\": 4, \"hour\": 12}}, {\"finish\": {\"day\": 5, \"hour\": 13}, \"start\": {\"day\": 5, \"hour\": 12}}, {\"finish\": {\"day\": 2, \"hour\": 11}, \"start\": {\"day\": 2, \"hour\": 9}}, {\"finish\": {\"day\": 2, \"hour\": 16}, \"start\": {\"day\": 2, \"hour\": 14}}, {\"finish\": {\"day\": 4, \"hour\": 16}, \"start\": {\"day\": 4, \"hour\": 14}}, {\"finish\": {\"day\": 2, \"hour\": 17}, \"start\": {\"day\": 2, \"hour\": 16}}, {\"finish\": {\"day\": 4, \"hour\": 17}, \"start\": {\"day\": 4, \"hour\": 16}}, {\"finish\": {\"day\": 2, \"hour\": 18}, \"start\": {\"day\": 2, \"hour\": 17}}, {\"finish\": {\"day\": 4, \"hour\": 18}, \"start\": {\"day\": 4, \"hour\": 17}}, {\"finish\": {\"day\": 2, \"hour\": 9}, \"start\": {\"day\": 2, \"hour\": 8}}, {\"finish\": {\"day\": 4, \"hour\": 9}, \"start\": {\"day\": 4, \"hour\": 8}}]}, \"reports\": {}, \"reservations\": {}, \"roomNumber\": \"0204\"}, {\"emptyIntervals\": {\"emptyIntervals\": [{\"finish\": {\"day\": 2, \"hour\": 18}, \"start\": {\"day\": 2, \"hour\": 16}}, {\"finish\": {\"day\": 4, \"hour\": 18}, \"start\": {\"day\": 4, \"hour\": 16}}, {\"finish\": {\"day\": 2, \"hour\": 16}, \"start\": {\"day\": 2, \"hour\": 14}}, {\"finish\": {\"day\": 4, \"hour\": 16}, \"start\": {\"day\": 4, \"hour\": 14}}, {\"finish\": {\"day\": 2, \"hour\": 11}, \"start\": {\"day\": 2, \"hour\": 9}}, {\"finish\": {\"day\": 4, \"hour\": 11}, \"start\": {\"day\": 4, \"hour\": 9}}, {\"finish\": {\"day\": 1, \"hour\": 10}, \"start\": {\"day\": 1, \"hour\": 8}}, {\"finish\": {\"day\": 3, \"hour\": 10}, \"start\": {\"day\": 3, \"hour\": 8}}, {\"finish\": {\"day\": 1, \"hour\": 20}, \"start\": {\"day\": 1, \"hour\": 18}}, {\"finish\": {\"day\": 3, \"hour\": 20}, \"start\": {\"day\": 3, \"hour\": 18}}, {\"finish\": {\"day\": 1, \"hour\": 16}, \"start\": {\"day\": 1, \"hour\": 14}}, {\"finish\": {\"day\": 3, \"hour\": 16}, \"start\": {\"day\": 3, \"hour\": 14}}, {\"finish\": {\"day\": 2, \"hour\": 14}, \"start\": {\"day\": 2, \"hour\": 12}}, {\"finish\": {\"day\": 4, \"hour\": 14}, \"start\": {\"day\": 4, \"hour\": 12}}, {\"finish\": {\"day\": 1, \"hour\": 12}, \"start\": {\"day\": 1, \"hour\": 10}}, {\"finish\": {\"day\": 3, \"hour\": 12}, \"start\": {\"day\": 3, \"hour\": 10}}, {\"finish\": {\"day\": 1, \"hour\": 14}, \"start\": {\"day\": 1, \"hour\": 12}}, {\"finish\": {\"day\": 3, \"hour\": 14}, \"start\": {\"day\": 3, \"hour\": 12}}, {\"finish\": {\"day\": 2, \"hour\": 19}, \"start\": {\"day\": 2, \"hour\": 18}}, {\"finish\": {\"day\": 4, \"hour\": 19}, \"start\": {\"day\": 4, \"hour\": 18}}]}, \"reports\": {}, \"reservations\": {}, \"roomNumber\": \"0205\"}, {\"emptyIntervals\": {\"emptyIntervals\": [{\"finish\": {\"day\": 1, \"hour\": 20}, \"start\": {\"day\": 1, \"hour\": 18}}, {\"finish\": {\"day\": 3, \"hour\": 20}, \"start\": {\"day\": 3, \"hour\": 18}}, {\"finish\": {\"day\": 2, \"hour\": 14}, \"start\": {\"day\": 2, \"hour\": 12}}, {\"finish\": {\"day\": 4, \"hour\": 14}, \"start\": {\"day\": 4, \"hour\": 12}}, {\"finish\": {\"day\": 1, \"hour\": 10}, \"start\": {\"day\": 1, \"hour\": 8}}, {\"finish\": {\"day\": 3, \"hour\": 10}, \"start\": {\"day\": 3, \"hour\": 8}}, {\"finish\": {\"day\": 1, \"hour\": 14}, \"start\": {\"day\": 1, \"hour\": 12}}, {\"finish\": {\"day\": 3, \"hour\": 14}, \"start\": {\"day\": 3, \"hour\": 12}}, {\"finish\": {\"day\": 1, \"hour\": 18}, \"start\": {\"day\": 1, \"hour\": 16}}, {\"finish\": {\"day\": 3, \"hour\": 18}, \"start\": {\"day\": 3, \"hour\": 16}}, {\"finish\": {\"day\": 2, \"hour\": 11}, \"start\": {\"day\": 2, \"hour\": 9}}, {\"finish\": {\"day\": 4, \"hour\": 11}, \"start\": {\"day\": 4, \"hour\": 9}}, {\"finish\": {\"day\": 1, \"hour\": 16}, \"start\": {\"day\": 1, \"hour\": 14}}, {\"finish\": {\"day\": 3, \"hour\": 16}, \"start\": {\"day\": 3, \"hour\": 14}}, {\"finish\": {\"day\": 2, \"hour\": 18}, \"start\": {\"day\": 2, \"hour\": 16}}, {\"finish\": {\"day\": 4, \"hour\": 18}, \"start\": {\"day\": 4, \"hour\": 16}}, {\"finish\": {\"day\": 1, \"hour\": 12}, \"start\": {\"day\": 1, \"hour\": 10}}, {\"finish\": {\"day\": 3, \"hour\": 12}, \"start\": {\"day\": 3, \"hour\": 10}}, {\"finish\": {\"day\": 1, \"hour\": 21}, \"start\": {\"day\": 1, \"hour\": 18}}, {\"finish\": {\"day\": 3, \"hour\": 21}, \"start\": {\"day\": 3, \"hour\": 18}}, {\"finish\": {\"day\": 1, \"hour\": 21}, \"start\": {\"day\": 1, \"hour\": 18}}, {\"finish\": {\"day\": 3, \"hour\": 21}, \"start\": {\"day\": 3, \"hour\": 18}}, {\"finish\": {\"day\": 2, \"hour\": 16}, \"start\": {\"day\": 2, \"hour\": 14}}, {\"finish\": {\"day\": 4, \"hour\": 16}, \"start\": {\"day\": 4, \"hour\": 14}}]}, \"reports\": {}, \"reservations\": {}, \"roomNumber\": \"0210\"}, {\"emptyIntervals\": {\"emptyIntervals\": [{\"finish\": {\"day\": 1, \"hour\": 16}, \"start\": {\"day\": 1, \"hour\": 14}}, {\"finish\": {\"day\": 3, \"hour\": 16}, \"start\": {\"day\": 3, \"hour\": 14}}, {\"finish\": {\"day\": 1, \"hour\": 18}, \"start\": {\"day\": 1, \"hour\": 16}}, {\"finish\": {\"day\": 3, \"hour\": 18}, \"start\": {\"day\": 3, \"hour\": 16}}, {\"finish\": {\"day\": 1, \"hour\": 19}, \"start\": {\"day\": 1, \"hour\": 18}}, {\"finish\": {\"day\": 3, \"hour\": 19}, \"start\": {\"day\": 3, \"hour\": 18}}, {\"finish\": {\"day\": 1, \"hour\": 10}, \"start\": {\"day\": 1, \"hour\": 8}}, {\"finish\": {\"day\": 3, \"hour\": 10}, \"start\": {\"day\": 3, \"hour\": 8}}, {\"finish\": {\"day\": 1, \"hour\": 13}, \"start\": {\"day\": 1, \"hour\": 12}}, {\"finish\": {\"day\": 3, \"hour\": 13}, \"start\": {\"day\": 3, \"hour\": 12}}, {\"finish\": {\"day\": 1, \"hour\": 14}, \"start\": {\"day\": 1, \"hour\": 13}}, {\"finish\": {\"day\": 3, \"hour\": 14}, \"start\": {\"day\": 3, \"hour\": 13}}, {\"finish\": {\"day\": 5, \"hour\": 14}, \"start\": {\"day\": 5, \"hour\": 13}}, {\"finish\": {\"day\": 1, \"hour\": 11}, \"start\": {\"day\": 1, \"hour\": 10}}, {\"finish\": {\"day\": 3, \"hour\": 11}, \"start\": {\"day\": 3, \"hour\": 10}}, {\"finish\": {\"day\": 5, \"hour\": 11}, \"start\": {\"day\": 5, \"hour\": 10}}, {\"finish\": {\"day\": 1, \"hour\": 12}, \"start\": {\"day\": 1, \"hour\": 11}}, {\"finish\": {\"day\": 3, \"hour\": 12}, \"start\": {\"day\": 3, \"hour\": 11}}, {\"finish\": {\"day\": 5, \"hour\": 12}, \"start\": {\"day\": 5, \"hour\": 11}}, {\"finish\": {\"day\": 4, \"hour\": 20}, \"start\": {\"day\": 4, \"hour\": 18}}, {\"finish\": {\"day\": 2, \"hour\": 16}, \"start\": {\"day\": 2, \"hour\": 14}}, {\"finish\": {\"day\": 4, \"hour\": 16}, \"start\": {\"day\": 4, \"hour\": 14}}, {\"finish\": {\"day\": 2, \"hour\": 18}, \"start\": {\"day\": 2, \"hour\": 16}}, {\"finish\": {\"day\": 4, \"hour\": 18}, \"start\": {\"day\": 4, \"hour\": 16}}, {\"finish\": {\"day\": 2, \"hour\": 18}, \"start\": {\"day\": 2, \"hour\": 16}}, {\"finish\": {\"day\": 4, \"hour\": 18}, \"start\": {\"day\": 4, \"hour\": 16}}, {\"finish\": {\"day\": 2, \"hour\": 11}, \"start\": {\"day\": 2, \"hour\": 9}}, {\"finish\": {\"day\": 4, \"hour\": 11}, \"start\": {\"day\": 4, \"hour\": 9}}, {\"finish\": {\"day\": 2, \"hour\": 14}, \"start\": {\"day\": 2, \"hour\": 12}}, {\"finish\": {\"day\": 4, \"hour\": 14}, \"start\": {\"day\": 4, \"hour\": 12}}]}, \"reports\": {}, \"reservations\": {}, \"roomNumber\": \"0212\"}, {\"emptyIntervals\": {\"emptyIntervals\": [{\"finish\": {\"day\": 1, \"hour\": 20}, \"start\": {\"day\": 1, \"hour\": 17}}, {\"finish\": {\"day\": 1, \"hour\": 16}, \"start\": {\"day\": 1, \"hour\": 14}}, {\"finish\": {\"day\": 3, \"hour\": 16}, \"start\": {\"day\": 3, \"hour\": 14}}, {\"finish\": {\"day\": 1, \"hour\": 17}, \"start\": {\"day\": 1, \"hour\": 16}}, {\"finish\": {\"day\": 3, \"hour\": 17}, \"start\": {\"day\": 3, \"hour\": 16}}, {\"finish\": {\"day\": 1, \"hour\": 10}, \"start\": {\"day\": 1, \"hour\": 8}}, {\"finish\": {\"day\": 3, \"hour\": 10}, \"start\": {\"day\": 3, \"hour\": 8}}, {\"finish\": {\"day\": 1, \"hour\": 14}, \"start\": {\"day\": 1, \"hour\": 13}}, {\"finish\": {\"day\": 3, \"hour\": 14}, \"start\": {\"day\": 3, \"hour\": 13}}, {\"finish\": {\"day\": 5, \"hour\": 14}, \"start\": {\"day\": 5, \"hour\": 13}}, {\"finish\": {\"day\": 1, \"hour\": 11}, \"start\": {\"day\": 1, \"hour\": 10}}, {\"finish\": {\"day\": 3, \"hour\": 11}, \"start\": {\"day\": 3, \"hour\": 10}}, {\"finish\": {\"day\": 5, \"hour\": 11}, \"start\": {\"day\": 5, \"hour\": 10}}, {\"finish\": {\"day\": 1, \"hour\": 12}, \"start\": {\"day\": 1, \"hour\": 11}}, {\"finish\": {\"day\": 3, \"hour\": 12}, \"start\": {\"day\": 3, \"hour\": 11}}, {\"finish\": {\"day\": 5, \"hour\": 12}, \"start\": {\"day\": 5, \"hour\": 11}}, {\"finish\": {\"day\": 1, \"hour\": 13}, \"start\": {\"day\": 1, \"hour\": 12}}, {\"finish\": {\"day\": 3, \"hour\": 13}, \"start\": {\"day\": 3, \"hour\": 12}}, {\"finish\": {\"day\": 5, \"hour\": 13}, \"start\": {\"day\": 5, \"hour\": 12}}, {\"finish\": {\"day\": 4, \"hour\": 11}, \"start\": {\"day\": 4, \"hour\": 8}}, {\"finish\": {\"day\": 2, \"hour\": 11}, \"start\": {\"day\": 2, \"hour\": 8}}, {\"finish\": {\"day\": 2, \"hour\": 15}, \"start\": {\"day\": 2, \"hour\": 13}}, {\"finish\": {\"day\": 4, \"hour\": 15}, \"start\": {\"day\": 4, \"hour\": 13}}, {\"finish\": {\"day\": 2, \"hour\": 16}, \"start\": {\"day\": 2, \"hour\": 15}}, {\"finish\": {\"day\": 4, \"hour\": 16}, \"start\": {\"day\": 4, \"hour\": 15}}, {\"finish\": {\"day\": 2, \"hour\": 18}, \"start\": {\"day\": 2, \"hour\": 16}}, {\"finish\": {\"day\": 4, \"hour\": 18}, \"start\": {\"day\": 4, \"hour\": 16}}, {\"finish\": {\"day\": 2, \"hour\": 20}, \"start\": {\"day\": 2, \"hour\": 18}}, {\"finish\": {\"day\": 4, \"hour\": 20}, \"start\": {\"day\": 4, \"hour\": 18}}, {\"finish\": {\"day\": 2, \"hour\": 13}, \"start\": {\"day\": 2, \"hour\": 12}}, {\"finish\": {\"day\": 4, \"hour\": 13}, \"start\": {\"day\": 4, \"hour\": 12}}, {\"finish\": {\"day\": 3, \"hour\": 20}, \"start\": {\"day\": 3, \"hour\": 17}}]}, \"reports\": {}, \"reservations\": {}, \"roomNumber\": \"0213\"}, {\"emptyIntervals\": {\"emptyIntervals\": [{\"finish\": {\"day\": 5, \"hour\": 20}, \"start\": {\"day\": 5, \"hour\": 17}}, {\"finish\": {\"day\": 1, \"hour\": 19}, \"start\": {\"day\": 1, \"hour\": 16}}, {\"finish\": {\"day\": 1, \"hour\": 21}, \"start\": {\"day\": 1, \"hour\": 19}}, {\"finish\": {\"day\": 1, \"hour\": 14}, \"start\": {\"day\": 1, \"hour\": 12}}, {\"finish\": {\"day\": 3, \"hour\": 14}, \"start\": {\"day\": 3, \"hour\": 12}}, {\"finish\": {\"day\": 4, \"hour\": 19}, \"start\": {\"day\": 4, \"hour\": 16}}, {\"finish\": {\"day\": 4, \"hour\": 21}, \"start\": {\"day\": 4, \"hour\": 19}}, {\"finish\": {\"day\": 6, \"hour\": 11}, \"start\": {\"day\": 6, \"hour\": 8}}, {\"finish\": {\"day\": 6, \"hour\": 15}, \"start\": {\"day\": 6, \"hour\": 12}}, {\"finish\": {\"day\": 2, \"hour\": 16}, \"start\": {\"day\": 2, \"hour\": 14}}, {\"finish\": {\"day\": 2, \"hour\": 19}, \"start\": {\"day\": 2, \"hour\": 16}}, {\"finish\": {\"day\": 2, \"hour\": 21}, \"start\": {\"day\": 2, \"hour\": 19}}, {\"finish\": {\"day\": 2, \"hour\": 11}, \"start\": {\"day\": 2, \"hour\": 9}}, {\"finish\": {\"day\": 4, \"hour\": 11}, \"start\": {\"day\": 4, \"hour\": 9}}, {\"finish\": {\"day\": 2, \"hour\": 13}, \"start\": {\"day\": 2, \"hour\": 12}}, {\"finish\": {\"day\": 4, \"hour\": 13}, \"start\": {\"day\": 4, \"hour\": 12}}, {\"finish\": {\"day\": 3, \"hour\": 16}, \"start\": {\"day\": 3, \"hour\": 14}}, {\"finish\": {\"day\": 3, \"hour\": 19}, \"start\": {\"day\": 3, \"hour\": 16}}]}, \"reports\": {}, \"reservations\": {}, \"roomNumber\": \"0214\"}]}]}\n"
     ]
    }
   ],
   "source": [
    "# build for 1 ics file\n",
    "tempBuildingName = \"\"\n",
    "buildingDB = buildings()\n",
    "tempBuilding = building(roomDF.iloc[0].Building)\n",
    "for index, row in roomDF.iterrows():\n",
    "    if(index < 15):\n",
    "        buildingNumber = row.Building\n",
    "        if(buildingNumber != tempBuilding.buildingNumber):\n",
    "            #if the building number doesn't match, add the previous tempBuilding to the DB\n",
    "            # and reinitialize the tempBuilding\n",
    "            buildingDB.addBuilding(tempBuilding)\n",
    "            tempBuilding = building(buildingNumber)\n",
    "            print(buildingNumber)\n",
    "        url = \"http://schedules.calpoly.edu\" + row.ICS\n",
    "        cal = Calendar.from_ical(requests.get(url).text)\n",
    "        # create temp room\n",
    "        tempRoom = room(row.Room)\n",
    "        tempEmptyIntervals = emptyIntervals()\n",
    "        # populate empty intervals for tempRoom\n",
    "        for component in cal.walk():\n",
    "            if component.name == \"VEVENT\":\n",
    "                # create empty interval\n",
    "                dstart = component.get('dtstart').dt\n",
    "                dtend = component.get('dtend').dt\n",
    "                rrule = component.get('rrule')\n",
    "                days = rrule.get(\"BYDAY\")\n",
    "                for day in days:\n",
    "                    tempIntervalStart = customTime(Week[day].value, dstart.time().hour)\n",
    "                    tempIntervalEnd = customTime(Week[day].value, dtend.time().hour)\n",
    "                    tempInterval = interval(tempIntervalStart,tempIntervalEnd)\n",
    "                    tempEmptyIntervals.addInterval(tempInterval)\n",
    "        tempRoom.setEmptyIntervals(tempEmptyIntervals)\n",
    "        tempBuilding.addRoom(tempRoom)\n",
    "frozen = jsonpickle.encode(buildingDB, unpicklable=False)\n",
    "print(frozen)"
   ]
  },
  {
   "cell_type": "code",
   "execution_count": null,
   "metadata": {},
   "outputs": [],
   "source": []
  }
 ],
 "metadata": {
  "kernelspec": {
   "display_name": "Python 3",
   "language": "python",
   "name": "python3"
  },
  "language_info": {
   "codemirror_mode": {
    "name": "ipython",
    "version": 3
   },
   "file_extension": ".py",
   "mimetype": "text/x-python",
   "name": "python",
   "nbconvert_exporter": "python",
   "pygments_lexer": "ipython3",
   "version": "3.7.3"
  }
 },
 "nbformat": 4,
 "nbformat_minor": 2
}
