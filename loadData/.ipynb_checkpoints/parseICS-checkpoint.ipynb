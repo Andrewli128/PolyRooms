{
 "cells": [
  {
   "cell_type": "code",
   "execution_count": 1,
   "metadata": {},
   "outputs": [],
   "source": [
    "import pandas as pd\n",
    "import requests\n",
    "import jsonpickle\n",
    "from icalendar import Calendar, Event"
   ]
  },
  {
   "cell_type": "code",
   "execution_count": 2,
   "metadata": {},
   "outputs": [],
   "source": [
    "roomDF = pd.read_pickle('./rooms.pkl')"
   ]
  },
  {
   "cell_type": "markdown",
   "metadata": {},
   "source": [
    "#### JSON Representation\n",
    "{ \"buildings\" : [ { \n",
    "\"buildingNumber\" : 1, \n",
    "\"rooms\" : [ { \n",
    "    \"emptyIntervals\" : [ { \"finish\" : { \"day\" : 0, \"hour\" : 3 }, \"start\" : { \"day\" : 0, \"hour\" : 1 } } ], \n",
    "    \"reservations\" : { \"-Lg5j7s0xLAqbqsiIM_N\" : { \"interval\" : { \"finish\" : { \"day\" : 1, \"hour\" : 12 }, \"start\" : { \"day\" : 1, \"hour\" : 8 } } } }, \n",
    "    \"roomNumber\" : 1 } ] } ] }\n"
   ]
  },
  {
   "cell_type": "code",
   "execution_count": 3,
   "metadata": {},
   "outputs": [],
   "source": [
    "# create classes\n",
    "class customTime():\n",
    "    def __init__(self, day, hour):\n",
    "        self.day = day\n",
    "        self.hour = hour\n",
    "class interval():\n",
    "    def __init__(self, start, finish):\n",
    "        self.start=start\n",
    "        self.finish=finish\n",
    "class emptyIntervals():\n",
    "    def __init__(self):\n",
    "        self.emptyIntervals = []\n",
    "    def addInterval(self, interval):\n",
    "        self.emptyIntervals.append(interval)        \n",
    "class buildings():\n",
    "    def __init__(self):\n",
    "        self.buildings = []\n",
    "    def addBuilding(self, building):\n",
    "        self.buildings.append(building)\n",
    "class building():\n",
    "    def __init__(self, buildingNumber):\n",
    "        self.buildingNumber = buildingNumber\n",
    "        self.rooms = []\n",
    "    def addRoom(self, room):\n",
    "        self.rooms.append(room)\n",
    "# might have to make mods to definition of room to start off with 24*7 empty intervals\n",
    "class room():\n",
    "    def __init__(self, roomNumber):\n",
    "        self.emptyIntervals = []\n",
    "        self.reservations = {}\n",
    "        self.roomNumber = roomNumber;"
   ]
  },
  {
   "cell_type": "code",
   "execution_count": 11,
   "metadata": {},
   "outputs": [
    {
     "name": "stdout",
     "output_type": "stream",
     "text": [
      "VCALENDAR({'PRODID': vText('b'-//Cal Poly State University//College Scheduling//EN''), 'VERSION': vText('b'2.0''), 'CALSCALE': vText('b'GREGORIAN''), 'METHOD': vText('b'PUBLISH'')}, VTIMEZONE({'TZID': vText('b'(UTC-08.00) Pacific Time''), 'X-MICROSOFT-CDO-TZID': vText('b'13'')}, STANDARD({'DTSTART': <icalendar.prop.vDDDTypes object at 0x7f38b00b2a90>, 'TZOFFSETFROM': <icalendar.prop.vUTCOffset object at 0x7f38b00b2a20>, 'TZOFFSETTO': <icalendar.prop.vUTCOffset object at 0x7f38b00b2278>, 'RRULE': vRecur({'FREQ': ['YEARLY'], 'WKST': ['MO'], 'INTERVAL': [1], 'BYMONTH': [11], 'BYDAY': ['1SU']}), 'TZNAME': vText('b'Standard Time'')}), DAYLIGHT({'DTSTART': <icalendar.prop.vDDDTypes object at 0x7f38b00b2ac8>, 'TZOFFSETFROM': <icalendar.prop.vUTCOffset object at 0x7f38b00b2588>, 'TZOFFSETTO': <icalendar.prop.vUTCOffset object at 0x7f38b00b2390>, 'RRULE': vRecur({'FREQ': ['YEARLY'], 'WKST': ['MO'], 'INTERVAL': [1], 'BYMONTH': [3], 'BYDAY': ['2SU']}), 'TZNAME': vText('b'Daylight Saving Time'')})), VEVENT({'DTSTART': <icalendar.prop.vDDDTypes object at 0x7f38b00b2780>, 'DTEND': <icalendar.prop.vDDDTypes object at 0x7f38b00b2ba8>, 'RRULE': vRecur({'FREQ': ['WEEKLY'], 'UNTIL': [datetime.datetime(2019, 6, 8, 8, 0, tzinfo=<UTC>)], 'INTERVAL': [1], 'BYDAY': ['MO', 'TU', 'WE', 'TH'], 'WKST': ['MO']}), 'EXDATE': <icalendar.prop.vDDDLists object at 0x7f38b00b2240>, 'LOCATION': vText('b'002-0013''), 'TRANSP': vText('b'OPAQUE''), 'DTSTAMP': <icalendar.prop.vDDDTypes object at 0x7f38b014f908>, 'SUMMARY': vText('b'ENGL 145-09 Roberts\\\\, Mark E.''), 'DESCRIPTION': vText('b'ENGL 145-09\\\\nRoberts\\\\, Mark E.\\\\nLecture\\\\n''), 'CATEGORIES': <icalendar.prop.vCategory object at 0x7f38b014f208>}), VEVENT({'DTSTART': <icalendar.prop.vDDDTypes object at 0x7f38b014f5c0>, 'DTEND': <icalendar.prop.vDDDTypes object at 0x7f38b014fd30>, 'RRULE': vRecur({'FREQ': ['WEEKLY'], 'UNTIL': [datetime.datetime(2019, 6, 8, 8, 0, tzinfo=<UTC>)], 'INTERVAL': [1], 'BYDAY': ['MO', 'TU', 'WE', 'TH'], 'WKST': ['MO']}), 'EXDATE': <icalendar.prop.vDDDLists object at 0x7f38b014f6a0>, 'LOCATION': vText('b'002-0013''), 'TRANSP': vText('b'OPAQUE''), 'DTSTAMP': <icalendar.prop.vDDDTypes object at 0x7f38b014f588>, 'SUMMARY': vText('b'ENGL 145-15 Roberts\\\\, Mark E.''), 'DESCRIPTION': vText('b'ENGL 145-15\\\\nRoberts\\\\, Mark E.\\\\nLecture\\\\n''), 'CATEGORIES': <icalendar.prop.vCategory object at 0x7f38b014f320>}), VEVENT({'DTSTART': <icalendar.prop.vDDDTypes object at 0x7f38b02280b8>, 'DTEND': <icalendar.prop.vDDDTypes object at 0x7f38b00e6be0>, 'RRULE': vRecur({'FREQ': ['WEEKLY'], 'UNTIL': [datetime.datetime(2019, 6, 8, 8, 0, tzinfo=<UTC>)], 'INTERVAL': [1], 'BYDAY': ['MO', 'TU', 'WE', 'TH'], 'WKST': ['MO']}), 'EXDATE': <icalendar.prop.vDDDLists object at 0x7f38b00e6cc0>, 'LOCATION': vText('b'002-0013''), 'TRANSP': vText('b'OPAQUE''), 'DTSTAMP': <icalendar.prop.vDDDTypes object at 0x7f38b00e6588>, 'SUMMARY': vText('b'ENGL 145-35 Roberts\\\\, Mark E.''), 'DESCRIPTION': vText('b'ENGL 145-35\\\\nRoberts\\\\, Mark E.\\\\nLecture\\\\n''), 'CATEGORIES': <icalendar.prop.vCategory object at 0x7f38b014fcc0>}), VEVENT({'DTSTART': <icalendar.prop.vDDDTypes object at 0x7f38b00e6d68>, 'DTEND': <icalendar.prop.vDDDTypes object at 0x7f38b00e6e80>, 'RRULE': vRecur({'FREQ': ['WEEKLY'], 'UNTIL': [datetime.datetime(2019, 6, 8, 8, 0, tzinfo=<UTC>)], 'INTERVAL': [1], 'BYDAY': ['MO', 'WE'], 'WKST': ['MO']}), 'EXDATE': <icalendar.prop.vDDDLists object at 0x7f38b00e69b0>, 'RDATE': <icalendar.prop.vDDDLists object at 0x7f38b00e6438>, 'LOCATION': vText('b'002-0013''), 'TRANSP': vText('b'OPAQUE''), 'DTSTAMP': <icalendar.prop.vDDDTypes object at 0x7f38b00e6518>, 'SUMMARY': vText('b'COMS 322-01 Hudson\\\\, Nancie Jeanne''), 'DESCRIPTION': vText('b'COMS 322-01\\\\nHudson\\\\, Nancie Jeanne\\\\nLecture\\\\n''), 'CATEGORIES': <icalendar.prop.vCategory object at 0x7f38b00e6eb8>}), VEVENT({'DTSTART': <icalendar.prop.vDDDTypes object at 0x7f38b00e6048>, 'DTEND': <icalendar.prop.vDDDTypes object at 0x7f38b0155518>, 'RRULE': vRecur({'FREQ': ['WEEKLY'], 'UNTIL': [datetime.datetime(2019, 6, 8, 8, 0, tzinfo=<UTC>)], 'INTERVAL': [1], 'BYDAY': ['MO', 'WE'], 'WKST': ['MO']}), 'EXDATE': <icalendar.prop.vDDDLists object at 0x7f38b0155240>, 'RDATE': <icalendar.prop.vDDDLists object at 0x7f38b0155550>, 'LOCATION': vText('b'002-0013''), 'TRANSP': vText('b'OPAQUE''), 'DTSTAMP': <icalendar.prop.vDDDTypes object at 0x7f38b00a4b70>, 'SUMMARY': vText('b'ME 412-01 Elghandour\\\\, Eltahry I.''), 'DESCRIPTION': vText('b'ME 412-01\\\\nElghandour\\\\, Eltahry I.\\\\nLecture\\\\n''), 'CATEGORIES': <icalendar.prop.vCategory object at 0x7f38b00e6e10>}), VEVENT({'DTSTART': <icalendar.prop.vDDDTypes object at 0x7f38b00a4c18>, 'DTEND': <icalendar.prop.vDDDTypes object at 0x7f38b00a4c50>, 'RRULE': vRecur({'FREQ': ['WEEKLY'], 'UNTIL': [datetime.datetime(2019, 6, 8, 8, 0, tzinfo=<UTC>)], 'INTERVAL': [1], 'BYDAY': ['MO', 'WE'], 'WKST': ['MO']}), 'EXDATE': <icalendar.prop.vDDDLists object at 0x7f38b00a4c88>, 'RDATE': <icalendar.prop.vDDDLists object at 0x7f38b00a4be0>, 'LOCATION': vText('b'002-0013''), 'TRANSP': vText('b'OPAQUE''), 'DTSTAMP': <icalendar.prop.vDDDTypes object at 0x7f38b00a4d68>, 'SUMMARY': vText('b'SCM 150-03 Gragson\\\\, Derek E.''), 'DESCRIPTION': vText('b'SCM 150-03\\\\nGragson\\\\, Derek E.\\\\nLaboratory\\\\n''), 'CATEGORIES': <icalendar.prop.vCategory object at 0x7f38b00a4e80>}), VEVENT({'DTSTART': <icalendar.prop.vDDDTypes object at 0x7f38b0155f60>, 'DTEND': <icalendar.prop.vDDDTypes object at 0x7f38b00be278>, 'RRULE': vRecur({'FREQ': ['WEEKLY'], 'UNTIL': [datetime.datetime(2019, 6, 8, 8, 0, tzinfo=<UTC>)], 'INTERVAL': [1], 'BYDAY': ['MO', 'WE'], 'WKST': ['MO']}), 'EXDATE': <icalendar.prop.vDDDLists object at 0x7f38b00be2b0>, 'RDATE': <icalendar.prop.vDDDLists object at 0x7f38b00be208>, 'LOCATION': vText('b'002-0013''), 'TRANSP': vText('b'OPAQUE''), 'DTSTAMP': <icalendar.prop.vDDDTypes object at 0x7f38b00be780>, 'SUMMARY': vText('b'SCM 150-04 Gragson\\\\, Derek E.''), 'DESCRIPTION': vText('b'SCM 150-04\\\\nGragson\\\\, Derek E.\\\\nLaboratory\\\\n''), 'CATEGORIES': <icalendar.prop.vCategory object at 0x7f38b00a4ba8>}), VEVENT({'DTSTART': <icalendar.prop.vDDDTypes object at 0x7f38b00be828>, 'DTEND': <icalendar.prop.vDDDTypes object at 0x7f38b00be860>, 'RRULE': vRecur({'FREQ': ['WEEKLY'], 'UNTIL': [datetime.datetime(2019, 6, 8, 8, 0, tzinfo=<UTC>)], 'INTERVAL': [1], 'BYDAY': ['MO', 'WE'], 'WKST': ['MO']}), 'EXDATE': <icalendar.prop.vDDDLists object at 0x7f38b00be898>, 'RDATE': <icalendar.prop.vDDDLists object at 0x7f38b00be7f0>, 'LOCATION': vText('b'002-0013''), 'TRANSP': vText('b'OPAQUE''), 'DTSTAMP': <icalendar.prop.vDDDTypes object at 0x7f38b00bed68>, 'SUMMARY': vText('b'COMS 311-01 Adams\\\\, Aubrie S.''), 'DESCRIPTION': vText('b'COMS 311-01\\\\nAdams\\\\, Aubrie S.\\\\nLecture\\\\n''), 'CATEGORIES': <icalendar.prop.vCategory object at 0x7f38b00beb00>}), VEVENT({'DTSTART': <icalendar.prop.vDDDTypes object at 0x7f38b00bea20>, 'DTEND': <icalendar.prop.vDDDTypes object at 0x7f38b00bee48>, 'RRULE': vRecur({'FREQ': ['WEEKLY'], 'UNTIL': [datetime.datetime(2019, 6, 8, 8, 0, tzinfo=<UTC>)], 'INTERVAL': [1], 'BYDAY': ['TU', 'TH'], 'WKST': ['MO']}), 'EXDATE': [<icalendar.prop.vDDDLists object at 0x7f38b00bee80>, <icalendar.prop.vDDDLists object at 0x7f38b00bedd8>], 'LOCATION': vText('b'002-0013''), 'TRANSP': vText('b'OPAQUE''), 'DTSTAMP': <icalendar.prop.vDDDTypes object at 0x7f38b00c8390>, 'SUMMARY': vText('b'FR 103-01 Kennelly\\\\, Brian Gordon''), 'DESCRIPTION': vText('b'FR 103-01\\\\nKennelly\\\\, Brian Gordon\\\\nLecture\\\\n''), 'CATEGORIES': <icalendar.prop.vCategory object at 0x7f38b00bee10>}), VEVENT({'DTSTART': <icalendar.prop.vDDDTypes object at 0x7f38b00beef0>, 'DTEND': <icalendar.prop.vDDDTypes object at 0x7f38b00c8438>, 'RRULE': vRecur({'FREQ': ['WEEKLY'], 'UNTIL': [datetime.datetime(2019, 6, 8, 8, 0, tzinfo=<UTC>)], 'INTERVAL': [1], 'BYDAY': ['TU', 'TH'], 'WKST': ['MO']}), 'EXDATE': [<icalendar.prop.vDDDLists object at 0x7f38b00c8470>, <icalendar.prop.vDDDLists object at 0x7f38b00c83c8>], 'LOCATION': vText('b'002-0013''), 'TRANSP': vText('b'OPAQUE''), 'DTSTAMP': <icalendar.prop.vDDDTypes object at 0x7f38b00c8940>, 'SUMMARY': vText('b'FR 103-02 Kennelly\\\\, Brian Gordon''), 'DESCRIPTION': vText('b'FR 103-02\\\\nKennelly\\\\, Brian Gordon\\\\nActivity\\\\n''), 'CATEGORIES': <icalendar.prop.vCategory object at 0x7f38b00beda0>}), VEVENT({'DTSTART': <icalendar.prop.vDDDTypes object at 0x7f38b00c89b0>, 'DTEND': <icalendar.prop.vDDDTypes object at 0x7f38b00c89e8>, 'RRULE': vRecur({'FREQ': ['WEEKLY'], 'UNTIL': [datetime.datetime(2019, 6, 8, 8, 0, tzinfo=<UTC>)], 'INTERVAL': [1], 'BYDAY': ['TU', 'TH'], 'WKST': ['MO']}), 'EXDATE': [<icalendar.prop.vDDDLists object at 0x7f38b00c8a20>, <icalendar.prop.vDDDLists object at 0x7f38b00c8978>], 'LOCATION': vText('b'002-0013''), 'TRANSP': vText('b'OPAQUE''), 'DTSTAMP': <icalendar.prop.vDDDTypes object at 0x7f38b00c8ef0>, 'SUMMARY': vText('b'KINE 530-01 Greever\\\\, Cory Jackson''), 'DESCRIPTION': vText('b'KINE 530-01\\\\nGreever\\\\, Cory Jackson\\\\nSeminar\\\\n''), 'CATEGORIES': <icalendar.prop.vCategory object at 0x7f38b0117898>}), VEVENT({'DTSTART': <icalendar.prop.vDDDTypes object at 0x7f38b00c8f60>, 'DTEND': <icalendar.prop.vDDDTypes object at 0x7f38b00c8f98>, 'RRULE': vRecur({'FREQ': ['WEEKLY'], 'UNTIL': [datetime.datetime(2019, 6, 8, 8, 0, tzinfo=<UTC>)], 'INTERVAL': [1], 'BYDAY': ['TU', 'TH'], 'WKST': ['MO']}), 'EXDATE': [<icalendar.prop.vDDDLists object at 0x7f38b00c8c18>, <icalendar.prop.vDDDLists object at 0x7f38b00c8fd0>], 'LOCATION': vText('b'002-0013''), 'TRANSP': vText('b'OPAQUE''), 'DTSTAMP': <icalendar.prop.vDDDTypes object at 0x7f38b00d24e0>, 'SUMMARY': vText('b'SCM 150-35 Gragson\\\\, Derek E.''), 'DESCRIPTION': vText('b'SCM 150-35\\\\nGragson\\\\, Derek E.\\\\nLaboratory\\\\n''), 'CATEGORIES': <icalendar.prop.vCategory object at 0x7f38b00c88d0>}), VEVENT({'DTSTART': <icalendar.prop.vDDDTypes object at 0x7f38b00d2550>, 'DTEND': <icalendar.prop.vDDDTypes object at 0x7f38b00d2588>, 'RRULE': vRecur({'FREQ': ['WEEKLY'], 'UNTIL': [datetime.datetime(2019, 6, 8, 8, 0, tzinfo=<UTC>)], 'INTERVAL': [1], 'BYDAY': ['TU', 'TH'], 'WKST': ['MO']}), 'EXDATE': [<icalendar.prop.vDDDLists object at 0x7f38b00d25c0>, <icalendar.prop.vDDDLists object at 0x7f38b00d2518>], 'LOCATION': vText('b'002-0013''), 'TRANSP': vText('b'OPAQUE''), 'DTSTAMP': <icalendar.prop.vDDDTypes object at 0x7f38b00d2a90>, 'SUMMARY': vText('b'CE 529-01 Pande\\\\, Anurag''), 'DESCRIPTION': vText('b'CE 529-01\\\\nPande\\\\, Anurag\\\\nLecture\\\\n''), 'CATEGORIES': <icalendar.prop.vCategory object at 0x7f38b00c8e80>}), VEVENT({'DTSTART': <icalendar.prop.vDDDTypes object at 0x7f38b00d2b00>, 'DTEND': <icalendar.prop.vDDDTypes object at 0x7f38b00d2b38>, 'RRULE': vRecur({'FREQ': ['WEEKLY'], 'UNTIL': [datetime.datetime(2019, 6, 8, 8, 0, tzinfo=<UTC>)], 'INTERVAL': [1], 'BYDAY': ['TU', 'TH'], 'WKST': ['MO']}), 'EXDATE': [<icalendar.prop.vDDDLists object at 0x7f38b00d2b70>, <icalendar.prop.vDDDLists object at 0x7f38b00d2ac8>], 'LOCATION': vText('b'002-0013''), 'TRANSP': vText('b'OPAQUE''), 'DTSTAMP': <icalendar.prop.vDDDTypes object at 0x7f38b00d2f28>, 'SUMMARY': vText('b'ES 381-01 Isom\\\\, Denise A.''), 'DESCRIPTION': vText('b'ES 381-01\\\\nIsom\\\\, Denise A.\\\\nLecture\\\\n''), 'CATEGORIES': <icalendar.prop.vCategory object at 0x7f38b00d2dd8>}))\n",
      "\n",
      "VTIMEZONE({'TZID': vText('b'(UTC-08.00) Pacific Time''), 'X-MICROSOFT-CDO-TZID': vText('b'13'')}, STANDARD({'DTSTART': <icalendar.prop.vDDDTypes object at 0x7f38b00b2a90>, 'TZOFFSETFROM': <icalendar.prop.vUTCOffset object at 0x7f38b00b2a20>, 'TZOFFSETTO': <icalendar.prop.vUTCOffset object at 0x7f38b00b2278>, 'RRULE': vRecur({'FREQ': ['YEARLY'], 'WKST': ['MO'], 'INTERVAL': [1], 'BYMONTH': [11], 'BYDAY': ['1SU']}), 'TZNAME': vText('b'Standard Time'')}), DAYLIGHT({'DTSTART': <icalendar.prop.vDDDTypes object at 0x7f38b00b2ac8>, 'TZOFFSETFROM': <icalendar.prop.vUTCOffset object at 0x7f38b00b2588>, 'TZOFFSETTO': <icalendar.prop.vUTCOffset object at 0x7f38b00b2390>, 'RRULE': vRecur({'FREQ': ['YEARLY'], 'WKST': ['MO'], 'INTERVAL': [1], 'BYMONTH': [3], 'BYDAY': ['2SU']}), 'TZNAME': vText('b'Daylight Saving Time'')}))\n",
      "\n",
      "STANDARD({'DTSTART': <icalendar.prop.vDDDTypes object at 0x7f38b00b2a90>, 'TZOFFSETFROM': <icalendar.prop.vUTCOffset object at 0x7f38b00b2a20>, 'TZOFFSETTO': <icalendar.prop.vUTCOffset object at 0x7f38b00b2278>, 'RRULE': vRecur({'FREQ': ['YEARLY'], 'WKST': ['MO'], 'INTERVAL': [1], 'BYMONTH': [11], 'BYDAY': ['1SU']}), 'TZNAME': vText('b'Standard Time'')})\n",
      "\n",
      "DAYLIGHT({'DTSTART': <icalendar.prop.vDDDTypes object at 0x7f38b00b2ac8>, 'TZOFFSETFROM': <icalendar.prop.vUTCOffset object at 0x7f38b00b2588>, 'TZOFFSETTO': <icalendar.prop.vUTCOffset object at 0x7f38b00b2390>, 'RRULE': vRecur({'FREQ': ['YEARLY'], 'WKST': ['MO'], 'INTERVAL': [1], 'BYMONTH': [3], 'BYDAY': ['2SU']}), 'TZNAME': vText('b'Daylight Saving Time'')})\n",
      "\n",
      "VEVENT({'DTSTART': <icalendar.prop.vDDDTypes object at 0x7f38b00b2780>, 'DTEND': <icalendar.prop.vDDDTypes object at 0x7f38b00b2ba8>, 'RRULE': vRecur({'FREQ': ['WEEKLY'], 'UNTIL': [datetime.datetime(2019, 6, 8, 8, 0, tzinfo=<UTC>)], 'INTERVAL': [1], 'BYDAY': ['MO', 'TU', 'WE', 'TH'], 'WKST': ['MO']}), 'EXDATE': <icalendar.prop.vDDDLists object at 0x7f38b00b2240>, 'LOCATION': vText('b'002-0013''), 'TRANSP': vText('b'OPAQUE''), 'DTSTAMP': <icalendar.prop.vDDDTypes object at 0x7f38b014f908>, 'SUMMARY': vText('b'ENGL 145-09 Roberts\\\\, Mark E.''), 'DESCRIPTION': vText('b'ENGL 145-09\\\\nRoberts\\\\, Mark E.\\\\nLecture\\\\n''), 'CATEGORIES': <icalendar.prop.vCategory object at 0x7f38b014f208>})\n",
      "\n",
      "VEVENT({'DTSTART': <icalendar.prop.vDDDTypes object at 0x7f38b014f5c0>, 'DTEND': <icalendar.prop.vDDDTypes object at 0x7f38b014fd30>, 'RRULE': vRecur({'FREQ': ['WEEKLY'], 'UNTIL': [datetime.datetime(2019, 6, 8, 8, 0, tzinfo=<UTC>)], 'INTERVAL': [1], 'BYDAY': ['MO', 'TU', 'WE', 'TH'], 'WKST': ['MO']}), 'EXDATE': <icalendar.prop.vDDDLists object at 0x7f38b014f6a0>, 'LOCATION': vText('b'002-0013''), 'TRANSP': vText('b'OPAQUE''), 'DTSTAMP': <icalendar.prop.vDDDTypes object at 0x7f38b014f588>, 'SUMMARY': vText('b'ENGL 145-15 Roberts\\\\, Mark E.''), 'DESCRIPTION': vText('b'ENGL 145-15\\\\nRoberts\\\\, Mark E.\\\\nLecture\\\\n''), 'CATEGORIES': <icalendar.prop.vCategory object at 0x7f38b014f320>})\n",
      "\n",
      "VEVENT({'DTSTART': <icalendar.prop.vDDDTypes object at 0x7f38b02280b8>, 'DTEND': <icalendar.prop.vDDDTypes object at 0x7f38b00e6be0>, 'RRULE': vRecur({'FREQ': ['WEEKLY'], 'UNTIL': [datetime.datetime(2019, 6, 8, 8, 0, tzinfo=<UTC>)], 'INTERVAL': [1], 'BYDAY': ['MO', 'TU', 'WE', 'TH'], 'WKST': ['MO']}), 'EXDATE': <icalendar.prop.vDDDLists object at 0x7f38b00e6cc0>, 'LOCATION': vText('b'002-0013''), 'TRANSP': vText('b'OPAQUE''), 'DTSTAMP': <icalendar.prop.vDDDTypes object at 0x7f38b00e6588>, 'SUMMARY': vText('b'ENGL 145-35 Roberts\\\\, Mark E.''), 'DESCRIPTION': vText('b'ENGL 145-35\\\\nRoberts\\\\, Mark E.\\\\nLecture\\\\n''), 'CATEGORIES': <icalendar.prop.vCategory object at 0x7f38b014fcc0>})\n",
      "\n",
      "VEVENT({'DTSTART': <icalendar.prop.vDDDTypes object at 0x7f38b00e6d68>, 'DTEND': <icalendar.prop.vDDDTypes object at 0x7f38b00e6e80>, 'RRULE': vRecur({'FREQ': ['WEEKLY'], 'UNTIL': [datetime.datetime(2019, 6, 8, 8, 0, tzinfo=<UTC>)], 'INTERVAL': [1], 'BYDAY': ['MO', 'WE'], 'WKST': ['MO']}), 'EXDATE': <icalendar.prop.vDDDLists object at 0x7f38b00e69b0>, 'RDATE': <icalendar.prop.vDDDLists object at 0x7f38b00e6438>, 'LOCATION': vText('b'002-0013''), 'TRANSP': vText('b'OPAQUE''), 'DTSTAMP': <icalendar.prop.vDDDTypes object at 0x7f38b00e6518>, 'SUMMARY': vText('b'COMS 322-01 Hudson\\\\, Nancie Jeanne''), 'DESCRIPTION': vText('b'COMS 322-01\\\\nHudson\\\\, Nancie Jeanne\\\\nLecture\\\\n''), 'CATEGORIES': <icalendar.prop.vCategory object at 0x7f38b00e6eb8>})\n",
      "\n",
      "VEVENT({'DTSTART': <icalendar.prop.vDDDTypes object at 0x7f38b00e6048>, 'DTEND': <icalendar.prop.vDDDTypes object at 0x7f38b0155518>, 'RRULE': vRecur({'FREQ': ['WEEKLY'], 'UNTIL': [datetime.datetime(2019, 6, 8, 8, 0, tzinfo=<UTC>)], 'INTERVAL': [1], 'BYDAY': ['MO', 'WE'], 'WKST': ['MO']}), 'EXDATE': <icalendar.prop.vDDDLists object at 0x7f38b0155240>, 'RDATE': <icalendar.prop.vDDDLists object at 0x7f38b0155550>, 'LOCATION': vText('b'002-0013''), 'TRANSP': vText('b'OPAQUE''), 'DTSTAMP': <icalendar.prop.vDDDTypes object at 0x7f38b00a4b70>, 'SUMMARY': vText('b'ME 412-01 Elghandour\\\\, Eltahry I.''), 'DESCRIPTION': vText('b'ME 412-01\\\\nElghandour\\\\, Eltahry I.\\\\nLecture\\\\n''), 'CATEGORIES': <icalendar.prop.vCategory object at 0x7f38b00e6e10>})\n",
      "\n",
      "VEVENT({'DTSTART': <icalendar.prop.vDDDTypes object at 0x7f38b00a4c18>, 'DTEND': <icalendar.prop.vDDDTypes object at 0x7f38b00a4c50>, 'RRULE': vRecur({'FREQ': ['WEEKLY'], 'UNTIL': [datetime.datetime(2019, 6, 8, 8, 0, tzinfo=<UTC>)], 'INTERVAL': [1], 'BYDAY': ['MO', 'WE'], 'WKST': ['MO']}), 'EXDATE': <icalendar.prop.vDDDLists object at 0x7f38b00a4c88>, 'RDATE': <icalendar.prop.vDDDLists object at 0x7f38b00a4be0>, 'LOCATION': vText('b'002-0013''), 'TRANSP': vText('b'OPAQUE''), 'DTSTAMP': <icalendar.prop.vDDDTypes object at 0x7f38b00a4d68>, 'SUMMARY': vText('b'SCM 150-03 Gragson\\\\, Derek E.''), 'DESCRIPTION': vText('b'SCM 150-03\\\\nGragson\\\\, Derek E.\\\\nLaboratory\\\\n''), 'CATEGORIES': <icalendar.prop.vCategory object at 0x7f38b00a4e80>})\n",
      "\n",
      "VEVENT({'DTSTART': <icalendar.prop.vDDDTypes object at 0x7f38b0155f60>, 'DTEND': <icalendar.prop.vDDDTypes object at 0x7f38b00be278>, 'RRULE': vRecur({'FREQ': ['WEEKLY'], 'UNTIL': [datetime.datetime(2019, 6, 8, 8, 0, tzinfo=<UTC>)], 'INTERVAL': [1], 'BYDAY': ['MO', 'WE'], 'WKST': ['MO']}), 'EXDATE': <icalendar.prop.vDDDLists object at 0x7f38b00be2b0>, 'RDATE': <icalendar.prop.vDDDLists object at 0x7f38b00be208>, 'LOCATION': vText('b'002-0013''), 'TRANSP': vText('b'OPAQUE''), 'DTSTAMP': <icalendar.prop.vDDDTypes object at 0x7f38b00be780>, 'SUMMARY': vText('b'SCM 150-04 Gragson\\\\, Derek E.''), 'DESCRIPTION': vText('b'SCM 150-04\\\\nGragson\\\\, Derek E.\\\\nLaboratory\\\\n''), 'CATEGORIES': <icalendar.prop.vCategory object at 0x7f38b00a4ba8>})\n",
      "\n",
      "VEVENT({'DTSTART': <icalendar.prop.vDDDTypes object at 0x7f38b00be828>, 'DTEND': <icalendar.prop.vDDDTypes object at 0x7f38b00be860>, 'RRULE': vRecur({'FREQ': ['WEEKLY'], 'UNTIL': [datetime.datetime(2019, 6, 8, 8, 0, tzinfo=<UTC>)], 'INTERVAL': [1], 'BYDAY': ['MO', 'WE'], 'WKST': ['MO']}), 'EXDATE': <icalendar.prop.vDDDLists object at 0x7f38b00be898>, 'RDATE': <icalendar.prop.vDDDLists object at 0x7f38b00be7f0>, 'LOCATION': vText('b'002-0013''), 'TRANSP': vText('b'OPAQUE''), 'DTSTAMP': <icalendar.prop.vDDDTypes object at 0x7f38b00bed68>, 'SUMMARY': vText('b'COMS 311-01 Adams\\\\, Aubrie S.''), 'DESCRIPTION': vText('b'COMS 311-01\\\\nAdams\\\\, Aubrie S.\\\\nLecture\\\\n''), 'CATEGORIES': <icalendar.prop.vCategory object at 0x7f38b00beb00>})\n",
      "\n",
      "VEVENT({'DTSTART': <icalendar.prop.vDDDTypes object at 0x7f38b00bea20>, 'DTEND': <icalendar.prop.vDDDTypes object at 0x7f38b00bee48>, 'RRULE': vRecur({'FREQ': ['WEEKLY'], 'UNTIL': [datetime.datetime(2019, 6, 8, 8, 0, tzinfo=<UTC>)], 'INTERVAL': [1], 'BYDAY': ['TU', 'TH'], 'WKST': ['MO']}), 'EXDATE': [<icalendar.prop.vDDDLists object at 0x7f38b00bee80>, <icalendar.prop.vDDDLists object at 0x7f38b00bedd8>], 'LOCATION': vText('b'002-0013''), 'TRANSP': vText('b'OPAQUE''), 'DTSTAMP': <icalendar.prop.vDDDTypes object at 0x7f38b00c8390>, 'SUMMARY': vText('b'FR 103-01 Kennelly\\\\, Brian Gordon''), 'DESCRIPTION': vText('b'FR 103-01\\\\nKennelly\\\\, Brian Gordon\\\\nLecture\\\\n''), 'CATEGORIES': <icalendar.prop.vCategory object at 0x7f38b00bee10>})\n",
      "\n",
      "VEVENT({'DTSTART': <icalendar.prop.vDDDTypes object at 0x7f38b00beef0>, 'DTEND': <icalendar.prop.vDDDTypes object at 0x7f38b00c8438>, 'RRULE': vRecur({'FREQ': ['WEEKLY'], 'UNTIL': [datetime.datetime(2019, 6, 8, 8, 0, tzinfo=<UTC>)], 'INTERVAL': [1], 'BYDAY': ['TU', 'TH'], 'WKST': ['MO']}), 'EXDATE': [<icalendar.prop.vDDDLists object at 0x7f38b00c8470>, <icalendar.prop.vDDDLists object at 0x7f38b00c83c8>], 'LOCATION': vText('b'002-0013''), 'TRANSP': vText('b'OPAQUE''), 'DTSTAMP': <icalendar.prop.vDDDTypes object at 0x7f38b00c8940>, 'SUMMARY': vText('b'FR 103-02 Kennelly\\\\, Brian Gordon''), 'DESCRIPTION': vText('b'FR 103-02\\\\nKennelly\\\\, Brian Gordon\\\\nActivity\\\\n''), 'CATEGORIES': <icalendar.prop.vCategory object at 0x7f38b00beda0>})\n",
      "\n",
      "VEVENT({'DTSTART': <icalendar.prop.vDDDTypes object at 0x7f38b00c89b0>, 'DTEND': <icalendar.prop.vDDDTypes object at 0x7f38b00c89e8>, 'RRULE': vRecur({'FREQ': ['WEEKLY'], 'UNTIL': [datetime.datetime(2019, 6, 8, 8, 0, tzinfo=<UTC>)], 'INTERVAL': [1], 'BYDAY': ['TU', 'TH'], 'WKST': ['MO']}), 'EXDATE': [<icalendar.prop.vDDDLists object at 0x7f38b00c8a20>, <icalendar.prop.vDDDLists object at 0x7f38b00c8978>], 'LOCATION': vText('b'002-0013''), 'TRANSP': vText('b'OPAQUE''), 'DTSTAMP': <icalendar.prop.vDDDTypes object at 0x7f38b00c8ef0>, 'SUMMARY': vText('b'KINE 530-01 Greever\\\\, Cory Jackson''), 'DESCRIPTION': vText('b'KINE 530-01\\\\nGreever\\\\, Cory Jackson\\\\nSeminar\\\\n''), 'CATEGORIES': <icalendar.prop.vCategory object at 0x7f38b0117898>})\n",
      "\n",
      "VEVENT({'DTSTART': <icalendar.prop.vDDDTypes object at 0x7f38b00c8f60>, 'DTEND': <icalendar.prop.vDDDTypes object at 0x7f38b00c8f98>, 'RRULE': vRecur({'FREQ': ['WEEKLY'], 'UNTIL': [datetime.datetime(2019, 6, 8, 8, 0, tzinfo=<UTC>)], 'INTERVAL': [1], 'BYDAY': ['TU', 'TH'], 'WKST': ['MO']}), 'EXDATE': [<icalendar.prop.vDDDLists object at 0x7f38b00c8c18>, <icalendar.prop.vDDDLists object at 0x7f38b00c8fd0>], 'LOCATION': vText('b'002-0013''), 'TRANSP': vText('b'OPAQUE''), 'DTSTAMP': <icalendar.prop.vDDDTypes object at 0x7f38b00d24e0>, 'SUMMARY': vText('b'SCM 150-35 Gragson\\\\, Derek E.''), 'DESCRIPTION': vText('b'SCM 150-35\\\\nGragson\\\\, Derek E.\\\\nLaboratory\\\\n''), 'CATEGORIES': <icalendar.prop.vCategory object at 0x7f38b00c88d0>})\n",
      "\n",
      "VEVENT({'DTSTART': <icalendar.prop.vDDDTypes object at 0x7f38b00d2550>, 'DTEND': <icalendar.prop.vDDDTypes object at 0x7f38b00d2588>, 'RRULE': vRecur({'FREQ': ['WEEKLY'], 'UNTIL': [datetime.datetime(2019, 6, 8, 8, 0, tzinfo=<UTC>)], 'INTERVAL': [1], 'BYDAY': ['TU', 'TH'], 'WKST': ['MO']}), 'EXDATE': [<icalendar.prop.vDDDLists object at 0x7f38b00d25c0>, <icalendar.prop.vDDDLists object at 0x7f38b00d2518>], 'LOCATION': vText('b'002-0013''), 'TRANSP': vText('b'OPAQUE''), 'DTSTAMP': <icalendar.prop.vDDDTypes object at 0x7f38b00d2a90>, 'SUMMARY': vText('b'CE 529-01 Pande\\\\, Anurag''), 'DESCRIPTION': vText('b'CE 529-01\\\\nPande\\\\, Anurag\\\\nLecture\\\\n''), 'CATEGORIES': <icalendar.prop.vCategory object at 0x7f38b00c8e80>})\n",
      "\n",
      "VEVENT({'DTSTART': <icalendar.prop.vDDDTypes object at 0x7f38b00d2b00>, 'DTEND': <icalendar.prop.vDDDTypes object at 0x7f38b00d2b38>, 'RRULE': vRecur({'FREQ': ['WEEKLY'], 'UNTIL': [datetime.datetime(2019, 6, 8, 8, 0, tzinfo=<UTC>)], 'INTERVAL': [1], 'BYDAY': ['TU', 'TH'], 'WKST': ['MO']}), 'EXDATE': [<icalendar.prop.vDDDLists object at 0x7f38b00d2b70>, <icalendar.prop.vDDDLists object at 0x7f38b00d2ac8>], 'LOCATION': vText('b'002-0013''), 'TRANSP': vText('b'OPAQUE''), 'DTSTAMP': <icalendar.prop.vDDDTypes object at 0x7f38b00d2f28>, 'SUMMARY': vText('b'ES 381-01 Isom\\\\, Denise A.''), 'DESCRIPTION': vText('b'ES 381-01\\\\nIsom\\\\, Denise A.\\\\nLecture\\\\n''), 'CATEGORIES': <icalendar.prop.vCategory object at 0x7f38b00d2dd8>})\n",
      "\n"
     ]
    }
   ],
   "source": [
    "# build for 1 ics file\n",
    "for index, row in roomDF.iterrows():\n",
    "    if(index <1):\n",
    "        url = \"http://schedules.calpoly.edu\" + row.ICS\n",
    "        cal = Calendar.from_ical(requests.get(url).text)\n",
    "        for component in cal.walk():\n",
    "            print(component)\n",
    "            print()\n",
    "            if component.name == \"VEVENT\":\n",
    "                dstart = component.get('dtstart').dt\n",
    "                dtend = component.get('dtend').dt\n",
    "                rrule = component.get('rrule')\n",
    "                #print(dstart, dtend, rrule)\n",
    "        #print(row)"
   ]
  },
  {
   "cell_type": "code",
   "execution_count": null,
   "metadata": {},
   "outputs": [],
   "source": []
  }
 ],
 "metadata": {
  "kernelspec": {
   "display_name": "Python 3",
   "language": "python",
   "name": "python3"
  },
  "language_info": {
   "codemirror_mode": {
    "name": "ipython",
    "version": 3
   },
   "file_extension": ".py",
   "mimetype": "text/x-python",
   "name": "python",
   "nbconvert_exporter": "python",
   "pygments_lexer": "ipython3",
   "version": "3.7.3"
  }
 },
 "nbformat": 4,
 "nbformat_minor": 2
}
