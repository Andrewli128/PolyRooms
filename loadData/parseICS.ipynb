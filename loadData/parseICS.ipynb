{
 "cells": [
  {
   "cell_type": "code",
   "execution_count": null,
   "metadata": {},
   "outputs": [],
   "source": [
    "import pandas as pd\n",
    "import requests\n",
    "from icalendar import Calendar, Event"
   ]
  },
  {
   "cell_type": "code",
   "execution_count": null,
   "metadata": {},
   "outputs": [],
   "source": [
    "roomDF = pd.read_pickle('./rooms.pkl')\n",
    "\"\"\"\n",
    "for _, row in roomDF.iterrows():\n",
    "    url  = \"http://schedules.calpoly.edu\" + row.ICS \n",
    "    ics  = requests.get(url)\n",
    "\"\"\"\n",
    "# get sample ics\n",
    "urls  = \"http://schedules.calpoly.edu\" + roomDF.ICS\n",
    "for url in urls[:5]:\n",
    "    \n",
    "    cal = Calendar.from_ical(requests.get(url).text)\n",
    "    for component in cal.walk():\n",
    "        if component.name == \"VEVENT\":\n",
    "            print(component.get('dtstart').dt)\n",
    "            print(component.get('dtend').dt)\n",
    "            print(component.get('rrule'))\n",
    "            print()"
   ]
  },
  {
   "cell_type": "code",
   "execution_count": null,
   "metadata": {},
   "outputs": [],
   "source": []
  }
 ],
 "metadata": {
  "kernelspec": {
   "display_name": "Python 3",
   "language": "python",
   "name": "python3"
  },
  "language_info": {
   "codemirror_mode": {
    "name": "ipython",
    "version": 3
   },
   "file_extension": ".py",
   "mimetype": "text/x-python",
   "name": "python",
   "nbconvert_exporter": "python",
   "pygments_lexer": "ipython3",
   "version": "3.6.7"
  }
 },
 "nbformat": 4,
 "nbformat_minor": 2
}
