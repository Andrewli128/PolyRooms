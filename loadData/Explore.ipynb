{
 "cells": [
  {
   "cell_type": "markdown",
   "metadata": {},
   "source": [
    "# Exploring Cal Poly Schedules\n",
    "## Using BeautifulSoup to parse schedules.calpoly.edu\n",
    "### For PolyRooms"
   ]
  },
  {
   "cell_type": "code",
   "execution_count": 6,
   "metadata": {},
   "outputs": [],
   "source": [
    "from bs4 import BeautifulSoup\n",
    "import lxml.html as LH\n",
    "import pandas as pd\n",
    "import requests\n",
    "import re"
   ]
  },
  {
   "cell_type": "code",
   "execution_count": 7,
   "metadata": {},
   "outputs": [],
   "source": [
    "url = \"http://schedules.calpoly.edu/all_location_curr.htm\"\n",
    "page = requests.get(url)\n",
    "#soup = BeautifulSoup(page.content,'html.parser')\n",
    "#table = soup.body.find(\"div\", id=\"content\").table"
   ]
  },
  {
   "cell_type": "code",
   "execution_count": 8,
   "metadata": {},
   "outputs": [
    {
     "name": "stdout",
     "output_type": "stream",
     "text": [
      "Index(['Listing', 'Schedule', 'Loc Cap Reg', 'Loc Cap Calc', 'Util Fact',\n",
      "       'Opt Fact', 'ICS'],\n",
      "      dtype='object')\n",
      "(429, 7)\n"
     ]
    }
   ],
   "source": [
    "# remove rows with nonsense data\n",
    "rowsSkip = [0]\n",
    "pandasTable = pd.read_html(page.content, header = 0, skiprows = rowsSkip, keep_default_na = False)[0]\n",
    "for index, row in pandasTable.iterrows():\n",
    "    if(re.match(\"\\d*-\\d*\",row['Listing']) is None):\n",
    "        rowsSkip.append(index+2)\n",
    "pandasTable = pd.read_html(page.content, header = 0, skiprows = rowsSkip, keep_default_na = False)[0]\n",
    "for index, row in pandasTable.iterrows():\n",
    "    if(re.match(\"\\d*-\\d*\",row['Listing']) is None):\n",
    "        print(index+2, \",\", end ='')\n",
    "pandasTable = pandasTable.drop_duplicates()\n",
    "#print(lTable.xpath('//tr/td/a/@href'))\n",
    "#pandasTable['ICS'] = lTable.xpath('//tr/td/calendarICS/a/@href')\n",
    "print(pandasTable.columns)\n",
    "print(pandasTable.shape)\n",
    "#pandasTable['ICS'] = pandasTable['ICS'].str.extract(r'([^./]+)[.]')\n",
    "#print(pandasTableNew)"
   ]
  }
 ],
 "metadata": {
  "kernelspec": {
   "display_name": "Python 3",
   "language": "python",
   "name": "python3"
  },
  "language_info": {
   "codemirror_mode": {
    "name": "ipython",
    "version": 3
   },
   "file_extension": ".py",
   "mimetype": "text/x-python",
   "name": "python",
   "nbconvert_exporter": "python",
   "pygments_lexer": "ipython3",
   "version": "3.6.7"
  }
 },
 "nbformat": 4,
 "nbformat_minor": 2
}
