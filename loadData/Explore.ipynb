{
 "cells": [
  {
   "cell_type": "markdown",
   "metadata": {},
   "source": [
    "# Exploring Cal Poly Schedules\n",
    "## Using BeautifulSoup to parse schedules.calpoly.edu\n",
    "### For PolyRooms"
   ]
  },
  {
   "cell_type": "code",
   "execution_count": 91,
   "metadata": {},
   "outputs": [],
   "source": [
    "from bs4 import BeautifulSoup\n",
    "import lxml.html as LH\n",
    "import pandas as pd\n",
    "import requests\n",
    "import re"
   ]
  },
  {
   "cell_type": "code",
   "execution_count": 92,
   "metadata": {},
   "outputs": [],
   "source": [
    "url = \"http://schedules.calpoly.edu/all_location_curr.htm\"\n",
    "page = requests.get(url)\n",
    "#soup = BeautifulSoup(page.content,'html.parser')\n",
    "#table = soup.body.find(\"div\", id=\"content\").table"
   ]
  },
  {
   "cell_type": "code",
   "execution_count": 107,
   "metadata": {},
   "outputs": [
    {
     "name": "stdout",
     "output_type": "stream",
     "text": [
      "Index(['Listing', 'Schedule', 'Loc Cap Reg', 'Loc Cap Calc', 'Util Fact',\n",
      "       'Opt Fact', 'ICS'],\n",
      "      dtype='object')\n",
      "Listing            002-0013\n",
      "Schedule        BD-002-0013\n",
      "Loc Cap Reg              34\n",
      "Loc Cap Calc             34\n",
      "Util Fact               811\n",
      "Opt Fact               1190\n",
      "ICS                     ICS\n",
      "Name: 0, dtype: object\n",
      "(541, 7)\n",
      "31 ,32 ,55 ,56 ,58 ,59 ,63 ,64 ,65 ,66 ,67 ,68 ,69 ,70 ,71 ,72 ,73 ,98 ,99 ,107 ,108 ,124 ,125 ,142 ,143 ,145 ,146 ,148 ,149 ,150 ,151 ,152 ,153 ,156 ,157 ,179 ,180 ,224 ,225 ,237 ,238 ,243 ,244 ,260 ,261 ,263 ,264 ,284 ,285 ,312 ,313 ,318 ,319 ,339 ,340 ,347 ,348 ,353 ,354 ,363 ,364 ,365 ,366 ,367 ,368 ,369 ,371 ,372 ,381 ,382 ,383 ,384 ,385 ,388 ,389 ,390 ,391 ,392 ,397 ,398 ,413 ,414 ,416 ,417 ,419 ,420 ,422 ,423 ,425 ,426 ,428 ,429 ,431 ,432 ,434 ,435 ,436 ,437 ,438 ,476 ,477 ,498 ,499 ,532 ,533 ,534 ,535 ,536 ,537 ,538 ,539 ,540 ,"
     ]
    }
   ],
   "source": [
    "lTable = LH.fromstring(page.content)\n",
    "rowsSkip = [0,16,17]\n",
    "pandasTable = pd.read_html(page.content, flavor = \"bs4\", header = 0, skiprows = rowsSkip, keep_default_na = False)[0]\n",
    "#remove empty columns\n",
    "\n",
    "#print(pandasTable.shape)\n",
    "#print(lTable.xpath('//tr/td/a/@href'))\n",
    "#pandasTable['ICS'] = lTable.xpath('//tr/td/calendarICS/a/@href')\n",
    "print(pandasTable.columns)\n",
    "print(pandasTable.iloc[0])\n",
    "print(pandasTable.shape)\n",
    "for index, row in pandasTable.iterrows():\n",
    "    if(re.match(\"\\d*-\\d*\",row['Listing']) is None):\n",
    "        #print(row['Listing'])\n",
    "        print(index, \",\", end ='')\n",
    "#pandasTable['ICS'] = pandasTable['ICS'].str.extract(r'([^./]+)[.]')\n",
    "#print(pandasTable)"
   ]
  },
  {
   "cell_type": "code",
   "execution_count": null,
   "metadata": {},
   "outputs": [],
   "source": []
  }
 ],
 "metadata": {
  "kernelspec": {
   "display_name": "Python 3",
   "language": "python",
   "name": "python3"
  },
  "language_info": {
   "codemirror_mode": {
    "name": "ipython",
    "version": 3
   },
   "file_extension": ".py",
   "mimetype": "text/x-python",
   "name": "python",
   "nbconvert_exporter": "python",
   "pygments_lexer": "ipython3",
   "version": "3.6.7"
  }
 },
 "nbformat": 4,
 "nbformat_minor": 2
}
