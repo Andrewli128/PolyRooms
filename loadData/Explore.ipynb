{
 "cells": [
  {
   "cell_type": "markdown",
   "metadata": {},
   "source": [
    "# Exploring Cal Poly Schedules\n",
    "## Using BeautifulSoup to parse schedules.calpoly.edu\n",
    "### For PolyRooms"
   ]
  },
  {
   "cell_type": "code",
   "execution_count": 1,
   "metadata": {},
   "outputs": [],
   "source": [
    "from bs4 import BeautifulSoup\n",
    "import requests"
   ]
  },
  {
   "cell_type": "code",
   "execution_count": 12,
   "metadata": {},
   "outputs": [],
   "source": [
    "url = \"http://schedules.calpoly.edu/all_location_curr.htm\"\n",
    "r=requests.get(url)\n",
    "soup=BeautifulSoup(r.content,'html.parser')\n",
    "tables = soup(\"td\")"
   ]
  },
  {
   "cell_type": "code",
   "execution_count": 26,
   "metadata": {},
   "outputs": [
    {
     "name": "stdout",
     "output_type": "stream",
     "text": [
      "3 [<a href=\"location_002-0113_curr.htm\" title=\"Cotchett Education Room 0113\">002-0113</a>, ' ', <span class=\"overlapCount\"><a href=\"overlap_curr.htm\" title=\"002-0113 has two location overlaps\">(2)</a></span>]\n",
      "3 [<a href=\"location_002-0210_curr.htm\" title=\"Cotchett Education Room 0210\">002-0210</a>, ' ', <span class=\"overlapCount\"><a href=\"overlap_curr.htm\" title=\"002-0210 has three location overlaps\">(3)</a></span>]\n",
      "3 [<a href=\"location_002-0212_curr.htm\" title=\"Cotchett Education Room 0212\">002-0212</a>, ' ', <span class=\"overlapCount\"><a href=\"overlap_curr.htm\" title=\"002-0212 has two location overlaps\">(2)</a></span>]\n",
      "3 [<a href=\"location_003-0213_curr.htm\" title=\"Business Room 0213\">003-0213</a>, ' ', <span class=\"overlapCount\"><a href=\"overlap_curr.htm\" title=\"003-0213 has nine location overlaps\">(9)</a></span>]\n",
      "3 [<a href=\"location_005-0100_curr.htm\" title=\"Architecture &amp; Environmental Design Room 0100\">005-0100</a>, ' ', <span class=\"overlapCount\"><a href=\"overlap_curr.htm\" title=\"005-0100 has two location overlaps\">(2)</a></span>]\n",
      "3 [<a href=\"location_005-0104_curr.htm\" title=\"Architecture &amp; Environmental Design Room 0104\">005-0104</a>, ' ', <span class=\"overlapCount\"><a href=\"overlap_curr.htm\" title=\"005-0104 has four location overlaps\">(4)</a></span>]\n",
      "3 [<a href=\"location_005-0226_curr.htm\" title=\"Architecture &amp; Environmental Design Room 0226\">005-0226</a>, ' ', <span class=\"overlapCount\"><a href=\"overlap_curr.htm\" title=\"005-0226 has two location overlaps\">(2)</a></span>]\n",
      "3 [<a href=\"location_006-0124_curr.htm\" title=\"Performing Arts Center Room 0124\">006-0124</a>, ' ', <span class=\"overlapCount\"><a href=\"overlap_curr.htm\" title=\"006-0124 has four location overlaps\">(4)</a></span>]\n",
      "3 [<a href=\"location_008-0123_curr.htm\" title=\"Bioresource Ag Engineering Room 0123\">008-0123</a>, ' ', <span class=\"overlapCount\"><a href=\"overlap_curr.htm\" title=\"008-0123 has two location overlaps\">(2)</a></span>]\n",
      "3 [<a href=\"location_010-0100_curr.htm\" title=\"Erhart Agriculture Room 0100\">010-0100</a>, ' ', <span class=\"overlapCount\"><a href=\"overlap_curr.htm\" title=\"010-0100 has four location overlaps\">(4)</a></span>]\n",
      "3 [<a href=\"location_010-0115_curr.htm\" title=\"Erhart Agriculture Room 0115\">010-0115</a>, ' ', <span class=\"overlapCount\"><a href=\"overlap_curr.htm\" title=\"010-0115 has two location overlaps\">(2)</a></span>]\n",
      "3 [<a href=\"location_010-0124_curr.htm\" title=\"Erhart Agriculture Room 0124\">010-0124</a>, ' ', <span class=\"overlapCount\"><a href=\"overlap_curr.htm\" title=\"010-0124 has four location overlaps\">(4)</a></span>]\n",
      "3 [<a href=\"location_010-0126_curr.htm\" title=\"Erhart Agriculture Room 0126\">010-0126</a>, ' ', <span class=\"overlapCount\"><a href=\"overlap_curr.htm\" title=\"010-0126 has two location overlaps\">(2)</a></span>]\n",
      "3 [<a href=\"location_010-0221_curr.htm\" title=\"Erhart Agriculture Room 0221\">010-0221</a>, ' ', <span class=\"overlapCount\"><a href=\"overlap_curr.htm\" title=\"010-0221 has two location overlaps\">(2)</a></span>]\n",
      "3 [<a href=\"location_011-0105_curr.htm\" title=\"Agricultural Sciences Room 0105\">011-0105</a>, ' ', <span class=\"overlapCount\"><a href=\"overlap_curr.htm\" title=\"011-0105 has two location overlaps\">(2)</a></span>]\n",
      "3 [<a href=\"location_011-0304_curr.htm\" title=\"Agricultural Sciences Room 0304\">011-0304</a>, ' ', <span class=\"overlapCount\"><a href=\"overlap_curr.htm\" title=\"011-0304 has two location overlaps\">(2)</a></span>]\n",
      "3 [<a href=\"location_013-0113_curr.htm\" title=\"Engineering Room 0113\">013-0113</a>, ' ', <span class=\"overlapCount\"><a href=\"overlap_curr.htm\" title=\"013-0113 has four location overlaps\">(4)</a></span>]\n",
      "3 [<a href=\"location_014-0247_curr.htm\" title=\"Pilling Building Room 0247\">014-0247</a>, ' ', <span class=\"overlapCount\"><a href=\"overlap_curr.htm\" title=\"014-0247 has four location overlaps\">(4)</a></span>]\n",
      "3 [<a href=\"location_014-0253_curr.htm\" title=\"Pilling Building Room 0253\">014-0253</a>, ' ', <span class=\"overlapCount\"><a href=\"overlap_curr.htm\" title=\"014-0253 has four location overlaps\">(4)</a></span>]\n",
      "3 [<a href=\"location_014-0257_curr.htm\" title=\"Pilling Building Room 0257\">014-0257</a>, ' ', <span class=\"overlapCount\"><a href=\"overlap_curr.htm\" title=\"014-0257 has two location overlaps\">(2)</a></span>]\n",
      "3 [<a href=\"location_016-0001_curr.htm\" title=\"Beef Unit Judging Pavilion Room 0001\">016-0001</a>, ' ', <span class=\"overlapCount\"><a href=\"overlap_curr.htm\" title=\"016-0001 has two location overlaps\">(2)</a></span>]\n",
      "3 [<a href=\"location_021-0133_curr.htm\" title=\"Engineering West Room 0133\">021-0133</a>, ' ', <span class=\"overlapCount\"><a href=\"overlap_curr.htm\" title=\"021-0133 has two location overlaps\">(2)</a></span>]\n",
      "3 [<a href=\"location_021-0204_curr.htm\" title=\"Engineering West Room 0204\">021-0204</a>, ' ', <span class=\"overlapCount\"><a href=\"overlap_curr.htm\" title=\"021-0204 has two location overlaps\">(2)</a></span>]\n",
      "3 [<a href=\"location_022-0315_curr.htm\" title=\"English Room 0315\">022-0315</a>, ' ', <span class=\"overlapCount\"><a href=\"overlap_curr.htm\" title=\"022-0315 has two location overlaps\">(2)</a></span>]\n",
      "3 [<a href=\"location_024-0108_curr.htm\" title=\"Food Processing Room 0108\">024-0108</a>, ' ', <span class=\"overlapCount\"><a href=\"overlap_curr.htm\" title=\"024-0108 has two location overlaps\">(2)</a></span>]\n",
      "3 [<a href=\"location_026-0104_curr.htm\" title=\"Graphic Arts Room 0104\">026-0104</a>, ' ', <span class=\"overlapCount\"><a href=\"overlap_curr.htm\" title=\"026-0104 has four location overlaps\">(4)</a></span>]\n",
      "3 [<a href=\"location_026-0106_curr.htm\" title=\"Graphic Arts Room 0106\">026-0106</a>, ' ', <span class=\"overlapCount\"><a href=\"overlap_curr.htm\" title=\"026-0106 has seven location overlaps\">(7)</a></span>]\n",
      "3 [<a href=\"location_032-0001_curr.htm\" title=\"Cal Poly Equine Center (Horse Unit) Room 0001\">032-0001</a>, ' ', <span class=\"overlapCount\"><a href=\"overlap_curr.htm\" title=\"032-0001 has ten location overlaps\">(10)</a></span>]\n",
      "3 [<a href=\"location_033-0286_curr.htm\" title=\"Fisher Science Room 0286\">033-0286</a>, ' ', <span class=\"overlapCount\"><a href=\"overlap_curr.htm\" title=\"033-0286 has five location overlaps\">(5)</a></span>]\n",
      "3 [<a href=\"location_034-0117_curr.htm\" title=\"Dexter Building Room 0117\">034-0117</a>, ' ', <span class=\"overlapCount\"><a href=\"overlap_curr.htm\" title=\"034-0117 has six location overlaps\">(6)</a></span>]\n",
      "3 [<a href=\"location_034-0144_curr.htm\" title=\"Dexter Building Room 0144\">034-0144</a>, ' ', <span class=\"overlapCount\"><a href=\"overlap_curr.htm\" title=\"034-0144 has four location overlaps\">(4)</a></span>]\n",
      "3 [<a href=\"location_034-0159A_curr.htm\" title=\"Dexter Building Room 0159A\">034-0159A</a>, ' ', <span class=\"overlapCount\"><a href=\"overlap_curr.htm\" title=\"034-0159A has two location overlaps\">(2)</a></span>]\n",
      "3 [<a href=\"location_034-0222_curr.htm\" title=\"Dexter Building Room 0222\">034-0222</a>, ' ', <span class=\"overlapCount\"><a href=\"overlap_curr.htm\" title=\"034-0222 has three location overlaps\">(3)</a></span>]\n",
      "3 [<a href=\"location_034-0227_curr.htm\" title=\"Dexter Building Room 0227\">034-0227</a>, ' ', <span class=\"overlapCount\"><a href=\"overlap_curr.htm\" title=\"034-0227 has four location overlaps\">(4)</a></span>]\n",
      "3 [<a href=\"location_034-0252_curr.htm\" title=\"Dexter Building Room 0252\">034-0252</a>, ' ', <span class=\"overlapCount\"><a href=\"overlap_curr.htm\" title=\"034-0252 has two location overlaps\">(2)</a></span>]\n",
      "3 [<a href=\"location_034-0252B_curr.htm\" title=\"Dexter Building Room 0252B\">034-0252B</a>, ' ', <span class=\"overlapCount\"><a href=\"overlap_curr.htm\" title=\"034-0252B has two location overlaps\">(2)</a></span>]\n",
      "3 [<a href=\"location_035-0216A_curr.htm\" title=\"Kennedy Library Room 0216A\">035-0216A</a>, ' ', <span class=\"overlapCount\"><a href=\"overlap_curr.htm\" title=\"035-0216A has four location overlaps\">(4)</a></span>]\n",
      "3 [<a href=\"location_035-0217C_curr.htm\" title=\"Kennedy Library Room 0217C\">035-0217C</a>, ' ', <span class=\"overlapCount\"><a href=\"overlap_curr.htm\" title=\"035-0217C has two location overlaps\">(2)</a></span>]\n",
      "3 [<a href=\"location_038-0123_curr.htm\" title=\"Mathematics and Science Room 0123\">038-0123</a>, ' ', <span class=\"overlapCount\"><a href=\"overlap_curr.htm\" title=\"038-0123 has four location overlaps\">(4)</a></span>]\n",
      "3 [<a href=\"location_038-0201_curr.htm\" title=\"Mathematics and Science Room 0201\">038-0201</a>, ' ', <span class=\"overlapCount\"><a href=\"overlap_curr.htm\" title=\"038-0201 has four location overlaps\">(4)</a></span>]\n",
      "3 [<a href=\"location_038-0202_curr.htm\" title=\"Mathematics and Science Room 0202\">038-0202</a>, ' ', <span class=\"overlapCount\"><a href=\"overlap_curr.htm\" title=\"038-0202 has two location overlaps\">(2)</a></span>]\n",
      "3 [<a href=\"location_038-0204_curr.htm\" title=\"Mathematics and Science Room 0204\">038-0204</a>, ' ', <span class=\"overlapCount\"><a href=\"overlap_curr.htm\" title=\"038-0204 has four location overlaps\">(4)</a></span>]\n",
      "3 [<a href=\"location_038-0218_curr.htm\" title=\"Mathematics and Science Room 0218\">038-0218</a>, ' ', <span class=\"overlapCount\"><a href=\"overlap_curr.htm\" title=\"038-0218 has ten location overlaps\">(10)</a></span>]\n",
      "3 [<a href=\"location_038-0219_curr.htm\" title=\"Mathematics and Science Room 0219\">038-0219</a>, ' ', <span class=\"overlapCount\"><a href=\"overlap_curr.htm\" title=\"038-0219 has two location overlaps\">(2)</a></span>]\n",
      "3 [<a href=\"location_038-0220_curr.htm\" title=\"Mathematics and Science Room 0220\">038-0220</a>, ' ', <span class=\"overlapCount\"><a href=\"overlap_curr.htm\" title=\"038-0220 has two location overlaps\">(2)</a></span>]\n",
      "3 [<a href=\"location_043-0195C_curr.htm\" title=\"Recreation Center Room 0195C\">043-0195C</a>, ' ', <span class=\"overlapCount\"><a href=\"overlap_curr.htm\" title=\"043-0195C has eight location overlaps\">(8)</a></span>]\n",
      "3 [<a href=\"location_043A-0150_curr.htm\" title=\"Kinesiology Room 0150\">043A-0150</a>, ' ', <span class=\"overlapCount\"><a href=\"overlap_curr.htm\" title=\"043A-0150 has ten location overlaps\">(10)</a></span>]\n",
      "3 [<a href=\"location_043A-0261_curr.htm\" title=\"Kinesiology Room 0261\">043A-0261</a>, ' ', <span class=\"overlapCount\"><a href=\"overlap_curr.htm\" title=\"043A-0261 has eight location overlaps\">(8)</a></span>]\n",
      "3 [<a href=\"location_044-0227_curr.htm\" title=\"Alex &amp; Faye Spanos Theatre Room 0227\">044-0227</a>, ' ', <span class=\"overlapCount\"><a href=\"overlap_curr.htm\" title=\"044-0227 has ten location overlaps\">(10)</a></span>]\n",
      "3 [<a href=\"location_045-0101_curr.htm\" title=\"Davidson Music Center Room 0101\">045-0101</a>, ' ', <span class=\"overlapCount\"><a href=\"overlap_curr.htm\" title=\"045-0101 has two location overlaps\">(2)</a></span>]\n",
      "3 [<a href=\"location_045-0126_curr.htm\" title=\"Davidson Music Center Room 0126\">045-0126</a>, ' ', <span class=\"overlapCount\"><a href=\"overlap_curr.htm\" title=\"045-0126 has two location overlaps\">(2)</a></span>]\n",
      "3 [<a href=\"location_045-0206_curr.htm\" title=\"Davidson Music Center Room 0206\">045-0206</a>, ' ', <span class=\"overlapCount\"><a href=\"overlap_curr.htm\" title=\"045-0206 has two location overlaps\">(2)</a></span>]\n",
      "3 [<a href=\"location_045-0216_curr.htm\" title=\"Davidson Music Center Room 0216\">045-0216</a>, ' ', <span class=\"overlapCount\"><a href=\"overlap_curr.htm\" title=\"045-0216 has twelve location overlaps\">(12)</a></span>]\n",
      "3 [<a href=\"location_045-0218_curr.htm\" title=\"Davidson Music Center Room 0218\">045-0218</a>, ' ', <span class=\"overlapCount\"><a href=\"overlap_curr.htm\" title=\"045-0218 has ten location overlaps\">(10)</a></span>]\n",
      "3 [<a href=\"location_045T-0100_curr.htm\" title=\"Theater &amp; Dance Modular Lab (M053) Room 0100\">045T-0100</a>, ' ', <span class=\"overlapCount\"><a href=\"overlap_curr.htm\" title=\"045T-0100 has two location overlaps\">(2)</a></span>]\n",
      "3 [<a href=\"location_052-0D17_curr.htm\" title=\"Science Room 0D17\">052-0D17</a>, ' ', <span class=\"overlapCount\"><a href=\"overlap_curr.htm\" title=\"052-0D17 has six location overlaps\">(6)</a></span>]\n",
      "3 [<a href=\"location_052-0E03_curr.htm\" title=\"Science Room 0E03\">052-0E03</a>, ' ', <span class=\"overlapCount\"><a href=\"overlap_curr.htm\" title=\"052-0E03 has two location overlaps\">(2)</a></span>]\n",
      "3 [<a href=\"location_052-0E26_curr.htm\" title=\"Science Room 0E26\">052-0E26</a>, ' ', <span class=\"overlapCount\"><a href=\"overlap_curr.htm\" title=\"052-0E26 has two location overlaps\">(2)</a></span>]\n",
      "3 [<a href=\"location_052-0E27_curr.htm\" title=\"Science Room 0E27\">052-0E27</a>, ' ', <span class=\"overlapCount\"><a href=\"overlap_curr.htm\" title=\"052-0E27 has five location overlaps\">(5)</a></span>]\n",
      "3 [<a href=\"location_060-0006_curr.htm\" title=\"Crandall Dance Studio Room 0006\">060-0006</a>, ' ', <span class=\"overlapCount\"><a href=\"overlap_curr.htm\" title=\"060-0006 has two location overlaps\">(2)</a></span>]\n",
      "3 [<a href=\"location_150-0100_curr.htm\" title=\"Poultry Science Instructional Center Room 0100\">150-0100</a>, ' ', <span class=\"overlapCount\"><a href=\"overlap_curr.htm\" title=\"150-0100 has six location overlaps\">(6)</a></span>]\n",
      "3 [<a href=\"location_180-0101_curr.htm\" title=\"Baker Center for Science Room 0101\">180-0101</a>, ' ', <span class=\"overlapCount\"><a href=\"overlap_curr.htm\" title=\"180-0101 has two location overlaps\">(2)</a></span>]\n",
      "3 [<a href=\"location_180-0102_curr.htm\" title=\"Baker Center for Science Room 0102\">180-0102</a>, ' ', <span class=\"overlapCount\"><a href=\"overlap_curr.htm\" title=\"180-0102 has two location overlaps\">(2)</a></span>]\n",
      "3 [<a href=\"location_180-0107_curr.htm\" title=\"Baker Center for Science Room 0107\">180-0107</a>, ' ', <span class=\"overlapCount\"><a href=\"overlap_curr.htm\" title=\"180-0107 has five location overlaps\">(5)</a></span>]\n",
      "3 [<a href=\"location_180-0538_curr.htm\" title=\"Baker Center for Science Room 0538\">180-0538</a>, ' ', <span class=\"overlapCount\"><a href=\"overlap_curr.htm\" title=\"180-0538 has two location overlaps\">(2)</a></span>]\n",
      "3 [<a href=\"location_186-B103_curr.htm\" title=\"Construction Innovations Center Room B103\">186-B103</a>, ' ', <span class=\"overlapCount\"><a href=\"overlap_curr.htm\" title=\"186-B103 has eight location overlaps\">(8)</a></span>]\n",
      "3 [<a href=\"location_186-B106_curr.htm\" title=\"Construction Innovations Center Room B106\">186-B106</a>, ' ', <span class=\"overlapCount\"><a href=\"overlap_curr.htm\" title=\"186-B106 has eight location overlaps\">(8)</a></span>]\n",
      "3 [<a href=\"location_186-B203_curr.htm\" title=\"Construction Innovations Center Room B203\">186-B203</a>, ' ', <span class=\"overlapCount\"><a href=\"overlap_curr.htm\" title=\"186-B203 has eight location overlaps\">(8)</a></span>]\n",
      "3 [<a href=\"location_186-B304_curr.htm\" title=\"Construction Innovations Center Room B304\">186-B304</a>, ' ', <span class=\"overlapCount\"><a href=\"overlap_curr.htm\" title=\"186-B304 has twelve location overlaps\">(12)</a></span>]\n",
      "3 [<a href=\"location_186-C101_curr.htm\" title=\"Construction Innovations Center Room C101\">186-C101</a>, ' ', <span class=\"overlapCount\"><a href=\"overlap_curr.htm\" title=\"186-C101 has four location overlaps\">(4)</a></span>]\n",
      "3 [<a href=\"location_186-C102_curr.htm\" title=\"Construction Innovations Center Room C102\">186-C102</a>, ' ', <span class=\"overlapCount\"><a href=\"overlap_curr.htm\" title=\"186-C102 has six location overlaps\">(6)</a></span>]\n",
      "3 [<a href=\"location_186-C203_curr.htm\" title=\"Construction Innovations Center Room C203\">186-C203</a>, ' ', <span class=\"overlapCount\"><a href=\"overlap_curr.htm\" title=\"186-C203 has two location overlaps\">(2)</a></span>]\n",
      "3 [<a href=\"location_186-C300_curr.htm\" title=\"Construction Innovations Center Room C300\">186-C300</a>, ' ', <span class=\"overlapCount\"><a href=\"overlap_curr.htm\" title=\"186-C300 has six location overlaps\">(6)</a></span>]\n",
      "3 [<a href=\"location_186-C303_curr.htm\" title=\"Construction Innovations Center Room C303\">186-C303</a>, ' ', <span class=\"overlapCount\"><a href=\"overlap_curr.htm\" title=\"186-C303 has two location overlaps\">(2)</a></span>]\n",
      "3 [<a href=\"location_192-0131_curr.htm\" title=\"Engineering IV Room 0131\">192-0131</a>, ' ', <span class=\"overlapCount\"><a href=\"overlap_curr.htm\" title=\"192-0131 has nine location overlaps\">(9)</a></span>]\n",
      "3 [<a href=\"location_192-0134_curr.htm\" title=\"Engineering IV Room 0134\">192-0134</a>, ' ', <span class=\"overlapCount\"><a href=\"overlap_curr.htm\" title=\"192-0134 has six location overlaps\">(6)</a></span>]\n",
      "3 [<a href=\"location_192-0204_curr.htm\" title=\"Engineering IV Room 0204\">192-0204</a>, ' ', <span class=\"overlapCount\"><a href=\"overlap_curr.htm\" title=\"192-0204 has four location overlaps\">(4)</a></span>]\n",
      "3 [<a href=\"location_192-0205_curr.htm\" title=\"Engineering IV Room 0205\">192-0205</a>, ' ', <span class=\"overlapCount\"><a href=\"overlap_curr.htm\" title=\"192-0205 has four location overlaps\">(4)</a></span>]\n",
      "3 [<a href=\"location_192-0220_curr.htm\" title=\"Engineering IV Room 0220\">192-0220</a>, ' ', <span class=\"overlapCount\"><a href=\"overlap_curr.htm\" title=\"192-0220 has two location overlaps\">(2)</a></span>]\n",
      "3 [<a href=\"location_192-0221_curr.htm\" title=\"Engineering IV Room 0221\">192-0221</a>, ' ', <span class=\"overlapCount\"><a href=\"overlap_curr.htm\" title=\"192-0221 has two location overlaps\">(2)</a></span>]\n",
      "3 [<a href=\"location_192-0224_curr.htm\" title=\"Engineering IV Room 0224\">192-0224</a>, ' ', <span class=\"overlapCount\"><a href=\"overlap_curr.htm\" title=\"192-0224 has two location overlaps\">(2)</a></span>]\n",
      "3 [<a href=\"location_192-0329_curr.htm\" title=\"Engineering IV Room 0329\">192-0329</a>, ' ', <span class=\"overlapCount\"><a href=\"overlap_curr.htm\" title=\"192-0329 has two location overlaps\">(2)</a></span>]\n",
      "3 [<a href=\"location_998_curr.htm\" title=\"On-Campus Unspecified\">998</a>, ' ', <span class=\"overlapCount\"><a href=\"overlap_curr.htm\" title=\"998 has nineteen location overlaps\">(19)</a></span>]\n"
     ]
    }
   ],
   "source": [
    "for table in tables:\n",
    "    if(len(table.contents)>1):\n",
    "        print(len(table.contents), table.contents)"
   ]
  },
  {
   "cell_type": "markdown",
   "metadata": {},
   "source": [
    "### tableRows 2-544 contain relevant data"
   ]
  },
  {
   "cell_type": "code",
   "execution_count": 8,
   "metadata": {},
   "outputs": [
    {
     "name": "stdout",
     "output_type": "stream",
     "text": [
      "<tr>\n",
      "<th class=\"termSpring dividerLeft\" colspan=\"7\" scope=\"col\">\n",
      "<div class=\"locationDivContainer\">\n",
      "<span class=\"locationDivDescr\">003 Business</span>\n",
      "<span class=\"locationDivFloorPlan\"><a href=\"https://afd.calpoly.edu/facilities/mapsplans/building/Building%20003-0_Business.pdf\" target=\"_blank\">003 Floor Plan<span class=\"ftypeIcon ftypePDF\">PDF</span><span class=\"icon16 icon_external\"></span></a></span>\n",
      "<span class=\"locationDivMap\"><a href=\"https://maps.calpoly.edu/place/bldg-003-0/\" target=\"_blank\">003 Map<span class=\"ftypeIcon ftypeMAP\">Map</span><span class=\"icon16 icon_external\"></span></a></span>\n",
      "<span class=\"locationDivEMIL\"><a href=\"emilist_003_curr.htm\">003 EMIList</a></span>\n",
      "</div>\n",
      "</th>\n",
      "</tr>\n"
     ]
    }
   ],
   "source": [
    "print(tableRows[16])"
   ]
  },
  {
   "cell_type": "code",
   "execution_count": null,
   "metadata": {},
   "outputs": [],
   "source": []
  }
 ],
 "metadata": {
  "kernelspec": {
   "display_name": "Python 3",
   "language": "python",
   "name": "python3"
  },
  "language_info": {
   "codemirror_mode": {
    "name": "ipython",
    "version": 3
   },
   "file_extension": ".py",
   "mimetype": "text/x-python",
   "name": "python",
   "nbconvert_exporter": "python",
   "pygments_lexer": "ipython3",
   "version": "3.6.7"
  }
 },
 "nbformat": 4,
 "nbformat_minor": 2
}
